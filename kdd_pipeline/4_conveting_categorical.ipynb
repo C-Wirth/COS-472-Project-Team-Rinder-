{
 "cells": [
  {
   "cell_type": "code",
   "execution_count": null,
   "metadata": {},
   "outputs": [],
   "source": [
    "'''\n",
    "File 4 of 8 of kdd pipeline\n",
    "\n",
    "Key features: converting categorical data to numeric\n",
    "'''"
   ]
  },
  {
   "cell_type": "code",
   "execution_count": null,
   "metadata": {},
   "outputs": [],
   "source": [
    "import pandas as pd"
   ]
  },
  {
   "cell_type": "code",
   "execution_count": 62,
   "metadata": {},
   "outputs": [
    {
     "name": "stderr",
     "output_type": "stream",
     "text": [
      "/var/folders/xk/fhgbj8qj60n54b05mpfnck0w0000gn/T/ipykernel_4408/4095460919.py:1: DtypeWarning: Columns (4,5) have mixed types. Specify dtype option on import or set low_memory=False.\n",
      "  categorical_df = pd.read_csv('../dataset/categorical_data.csv')\n"
     ]
    },
    {
     "name": "stdout",
     "output_type": "stream",
     "text": [
      "<class 'pandas.core.frame.DataFrame'>\n",
      "RangeIndex: 155361 entries, 0 to 155360\n",
      "Data columns (total 34 columns):\n",
      " #   Column                                        Non-Null Count   Dtype  \n",
      "---  ------                                        --------------   -----  \n",
      " 0   nsites                                        155361 non-null  int64  \n",
      " 1   nelements                                     155361 non-null  int64  \n",
      " 2   volume                                        155361 non-null  float64\n",
      " 3   density                                       155361 non-null  float64\n",
      " 4   density_atomic                                155361 non-null  float64\n",
      " 5   deprecated                                    155361 non-null  int64  \n",
      " 6   energy_per_atom                               155361 non-null  float64\n",
      " 7   formation_energy_per_atom                     155361 non-null  float64\n",
      " 8   energy_above_hull                             155361 non-null  float64\n",
      " 9   is_stable                                     155361 non-null  int64  \n",
      " 10  band_gap                                      155361 non-null  float64\n",
      " 11  cbm                                           91107 non-null   float64\n",
      " 12  vbm                                           91107 non-null   float64\n",
      " 13  efermi                                        155361 non-null  float64\n",
      " 14  total_magnetization                           155361 non-null  float64\n",
      " 15  total_magnetization_normalized_vol            155361 non-null  float64\n",
      " 16  total_magnetization_normalized_formula_units  155361 non-null  float64\n",
      " 17  num_magnetic_sites                            155361 non-null  float64\n",
      " 18  num_unique_magnetic_sites                     155361 non-null  float64\n",
      " 19  theoretical                                   155361 non-null  int64  \n",
      " 20  thermo                                        155361 non-null  int64  \n",
      " 21  xas                                           155361 non-null  int64  \n",
      " 22  grain_boundaries                              155361 non-null  int64  \n",
      " 23  absorption                                    155361 non-null  int64  \n",
      " 24  bandstructure                                 155361 non-null  int64  \n",
      " 25  dos                                           155361 non-null  int64  \n",
      " 26  magnetism                                     155361 non-null  int64  \n",
      " 27  elasticity                                    155361 non-null  int64  \n",
      " 28  dielectric                                    155361 non-null  int64  \n",
      " 29  piezoelectric                                 155361 non-null  int64  \n",
      " 30  surface_properties                            155361 non-null  int64  \n",
      " 31  charge_density                                155361 non-null  int64  \n",
      " 32  eos                                           155361 non-null  int64  \n",
      " 33  substrates                                    155361 non-null  int64  \n",
      "dtypes: float64(15), int64(19)\n",
      "memory usage: 40.3 MB\n"
     ]
    }
   ],
   "source": [
    "categorical_df = pd.read_csv('../dataset/categorical_data.csv')\n",
    "numerical_df = pd.read_csv('../dataset/numerical_data.csv')\n",
    "\n",
    "numerical_df.info()"
   ]
  },
  {
   "cell_type": "code",
   "execution_count": null,
   "metadata": {},
   "outputs": [],
   "source": [
    "categorical_df.info()\n"
   ]
  },
  {
   "cell_type": "code",
   "execution_count": 49,
   "metadata": {},
   "outputs": [
    {
     "data": {
      "text/plain": [
       "0         {'crystal_system': 'Triclinic', 'symbol': 'P1'...\n",
       "1         {'crystal_system': 'Triclinic', 'symbol': 'P1'...\n",
       "2         {'crystal_system': 'Triclinic', 'symbol': 'P1'...\n",
       "3         {'crystal_system': 'Triclinic', 'symbol': 'P1'...\n",
       "4         {'crystal_system': 'Triclinic', 'symbol': 'P1'...\n",
       "                                ...                        \n",
       "155356    {'crystal_system': 'Triclinic', 'symbol': 'P1'...\n",
       "155357    {'crystal_system': 'Triclinic', 'symbol': 'P1'...\n",
       "155358    {'crystal_system': 'Triclinic', 'symbol': 'P1'...\n",
       "155359    {'crystal_system': 'Triclinic', 'symbol': 'P1'...\n",
       "155360    {'crystal_system': 'Triclinic', 'symbol': 'P1'...\n",
       "Name: symmetry, Length: 155361, dtype: object"
      ]
     },
     "execution_count": 49,
     "metadata": {},
     "output_type": "execute_result"
    }
   ],
   "source": [
    "categorical_df['symmetry']"
   ]
  },
  {
   "cell_type": "code",
   "execution_count": 50,
   "metadata": {},
   "outputs": [],
   "source": [
    "#begin work on symmetry attribute - these attributes can be cleaned with 1 hot encoding\n",
    "import ast\n",
    "\n",
    "crystal_sytems_df = []\n",
    "\n",
    "for row in categorical_df.itertuples(): #extract eah crystal system from the nested dictionaries for 1 hot encoding\n",
    "   \n",
    "    symmetry_dict = ast.literal_eval(row.symmetry) \n",
    "    crystal_sytems_df.append(symmetry_dict['crystal_system'])\n",
    "\n",
    "crystal_sytems_df = pd.get_dummies(\n",
    "    crystal_sytems_df, columns=['crystal_system'], \n",
    "                                    drop_first=True, prefix='crystal_sys')\n",
    "\n",
    "crystal_sytems_df = crystal_sytems_df.astype(int)\n",
    "categorical_df = categorical_df.drop('symmetry', axis=1)\n",
    "\n",
    "numerical_df = pd.concat([numerical_df, crystal_sytems_df], axis=1)\n"
   ]
  },
  {
   "cell_type": "code",
   "execution_count": 63,
   "metadata": {},
   "outputs": [
    {
     "name": "stdout",
     "output_type": "stream",
     "text": [
      "<class 'pandas.core.frame.DataFrame'>\n",
      "RangeIndex: 155361 entries, 0 to 155360\n",
      "Data columns (total 11 columns):\n",
      " #   Column         Non-Null Count   Dtype \n",
      "---  ------         --------------   ----- \n",
      " 0   symmetry       155361 non-null  object\n",
      " 1   structure      155361 non-null  object\n",
      " 2   decomposes_to  118418 non-null  object\n",
      " 3   xas            60920 non-null   object\n",
      " 4   is_gap_direct  155353 non-null  object\n",
      " 5   is_metal       155353 non-null  object\n",
      " 6   bandstructure  71727 non-null   object\n",
      " 7   dos            89547 non-null   object\n",
      " 8   ordering       154379 non-null  object\n",
      " 9   bulk_modulus   12259 non-null   object\n",
      " 10  shear_modulus  12259 non-null   object\n",
      "dtypes: object(11)\n",
      "memory usage: 13.0+ MB\n"
     ]
    }
   ],
   "source": [
    "categorical_df.info()"
   ]
  },
  {
   "cell_type": "code",
   "execution_count": 61,
   "metadata": {},
   "outputs": [
    {
     "name": "stdout",
     "output_type": "stream",
     "text": [
      "false count 81347\n",
      "true count 74006\n"
     ]
    }
   ],
   "source": [
    "#investiage is_metal\n",
    "print(\"false count\", categorical_df[categorical_df['is_metal'] == 0].shape[0])\n",
    "print(\"true count\", categorical_df[categorical_df['is_metal'] == 1].shape[0])\n"
   ]
  },
  {
   "cell_type": "code",
   "execution_count": 37,
   "metadata": {},
   "outputs": [
    {
     "name": "stdout",
     "output_type": "stream",
     "text": [
      "<class 'pandas.core.frame.DataFrame'>\n",
      "RangeIndex: 155361 entries, 0 to 155360\n",
      "Data columns (total 8 columns):\n",
      " #   Column         Non-Null Count   Dtype \n",
      "---  ------         --------------   ----- \n",
      " 0   structure      155361 non-null  object\n",
      " 1   decomposes_to  118418 non-null  object\n",
      " 2   xas            60920 non-null   object\n",
      " 3   bandstructure  71727 non-null   object\n",
      " 4   dos            89547 non-null   object\n",
      " 5   ordering       154379 non-null  object\n",
      " 6   bulk_modulus   12259 non-null   object\n",
      " 7   shear_modulus  12259 non-null   object\n",
      "dtypes: object(8)\n",
      "memory usage: 9.5+ MB\n"
     ]
    }
   ],
   "source": [
    "#less than 10 are null, fill with 0 (false)\n",
    "categorical_df['is_metal'] = categorical_df['is_metal'].fillna(0).astype(int) \n",
    "categorical_df['is_gap_direct'] = categorical_df['is_gap_direct'].fillna(0).astype(int)\n",
    "\n",
    "numerical_df = pd.concat([numerical_df, categorical_df[['is_metal', 'is_gap_direct']]], axis=1)\n",
    "\n",
    "categorical_df = categorical_df.drop(columns=['is_metal', 'is_gap_direct'])\n",
    "\n",
    "categorical_df.info()\n"
   ]
  },
  {
   "cell_type": "code",
   "execution_count": 38,
   "metadata": {},
   "outputs": [
    {
     "name": "stdout",
     "output_type": "stream",
     "text": [
      "<class 'pandas.core.frame.DataFrame'>\n",
      "RangeIndex: 155361 entries, 0 to 155360\n",
      "Data columns (total 6 columns):\n",
      " #   Column         Non-Null Count   Dtype \n",
      "---  ------         --------------   ----- \n",
      " 0   structure      155361 non-null  object\n",
      " 1   decomposes_to  118418 non-null  object\n",
      " 2   xas            60920 non-null   object\n",
      " 3   bandstructure  71727 non-null   object\n",
      " 4   dos            89547 non-null   object\n",
      " 5   ordering       154379 non-null  object\n",
      "dtypes: object(6)\n",
      "memory usage: 7.1+ MB\n"
     ]
    }
   ],
   "source": [
    "categorical_df.drop(['bulk_modulus', 'shear_modulus'], axis=1, inplace=True)\n",
    "categorical_df.info()"
   ]
  },
  {
   "cell_type": "code",
   "execution_count": 39,
   "metadata": {},
   "outputs": [
    {
     "data": {
      "text/html": [
       "<div>\n",
       "<style scoped>\n",
       "    .dataframe tbody tr th:only-of-type {\n",
       "        vertical-align: middle;\n",
       "    }\n",
       "\n",
       "    .dataframe tbody tr th {\n",
       "        vertical-align: top;\n",
       "    }\n",
       "\n",
       "    .dataframe thead th {\n",
       "        text-align: right;\n",
       "    }\n",
       "</style>\n",
       "<table border=\"1\" class=\"dataframe\">\n",
       "  <thead>\n",
       "    <tr style=\"text-align: right;\">\n",
       "      <th></th>\n",
       "      <th>structure</th>\n",
       "      <th>decomposes_to</th>\n",
       "      <th>xas</th>\n",
       "      <th>bandstructure</th>\n",
       "      <th>dos</th>\n",
       "      <th>ordering</th>\n",
       "    </tr>\n",
       "  </thead>\n",
       "  <tbody>\n",
       "    <tr>\n",
       "      <th>0</th>\n",
       "      <td>{'@module': 'pymatgen.core.structure', '@class...</td>\n",
       "      <td>[{'material_id': 'mp-149', 'formula': 'Si2', '...</td>\n",
       "      <td>[{'edge': 'K', 'absorbing_element': 'Si', 'spe...</td>\n",
       "      <td>{'setyawan_curtarolo': {'task_id': 'mp-1049050...</td>\n",
       "      <td>{'total': {'1': {'task_id': 'mp-1049056', 'ban...</td>\n",
       "      <td>NM</td>\n",
       "    </tr>\n",
       "    <tr>\n",
       "      <th>1</th>\n",
       "      <td>{'@module': 'pymatgen.core.structure', '@class...</td>\n",
       "      <td>[{'material_id': 'mp-72', 'formula': 'Ti3', 'a...</td>\n",
       "      <td>NaN</td>\n",
       "      <td>NaN</td>\n",
       "      <td>NaN</td>\n",
       "      <td>NM</td>\n",
       "    </tr>\n",
       "    <tr>\n",
       "      <th>2</th>\n",
       "      <td>{'@module': 'pymatgen.core.structure', '@class...</td>\n",
       "      <td>[{'material_id': 'mp-2516584', 'formula': 'C4'...</td>\n",
       "      <td>NaN</td>\n",
       "      <td>NaN</td>\n",
       "      <td>NaN</td>\n",
       "      <td>FM</td>\n",
       "    </tr>\n",
       "    <tr>\n",
       "      <th>3</th>\n",
       "      <td>{'@module': 'pymatgen.core.structure', '@class...</td>\n",
       "      <td>[{'material_id': 'mp-79', 'formula': 'Zn2', 'a...</td>\n",
       "      <td>NaN</td>\n",
       "      <td>NaN</td>\n",
       "      <td>NaN</td>\n",
       "      <td>NM</td>\n",
       "    </tr>\n",
       "    <tr>\n",
       "      <th>4</th>\n",
       "      <td>{'@module': 'pymatgen.core.structure', '@class...</td>\n",
       "      <td>[{'material_id': 'mp-149', 'formula': 'Si2', '...</td>\n",
       "      <td>NaN</td>\n",
       "      <td>NaN</td>\n",
       "      <td>NaN</td>\n",
       "      <td>NM</td>\n",
       "    </tr>\n",
       "  </tbody>\n",
       "</table>\n",
       "</div>"
      ],
      "text/plain": [
       "                                           structure  \\\n",
       "0  {'@module': 'pymatgen.core.structure', '@class...   \n",
       "1  {'@module': 'pymatgen.core.structure', '@class...   \n",
       "2  {'@module': 'pymatgen.core.structure', '@class...   \n",
       "3  {'@module': 'pymatgen.core.structure', '@class...   \n",
       "4  {'@module': 'pymatgen.core.structure', '@class...   \n",
       "\n",
       "                                       decomposes_to  \\\n",
       "0  [{'material_id': 'mp-149', 'formula': 'Si2', '...   \n",
       "1  [{'material_id': 'mp-72', 'formula': 'Ti3', 'a...   \n",
       "2  [{'material_id': 'mp-2516584', 'formula': 'C4'...   \n",
       "3  [{'material_id': 'mp-79', 'formula': 'Zn2', 'a...   \n",
       "4  [{'material_id': 'mp-149', 'formula': 'Si2', '...   \n",
       "\n",
       "                                                 xas  \\\n",
       "0  [{'edge': 'K', 'absorbing_element': 'Si', 'spe...   \n",
       "1                                                NaN   \n",
       "2                                                NaN   \n",
       "3                                                NaN   \n",
       "4                                                NaN   \n",
       "\n",
       "                                       bandstructure  \\\n",
       "0  {'setyawan_curtarolo': {'task_id': 'mp-1049050...   \n",
       "1                                                NaN   \n",
       "2                                                NaN   \n",
       "3                                                NaN   \n",
       "4                                                NaN   \n",
       "\n",
       "                                                 dos ordering  \n",
       "0  {'total': {'1': {'task_id': 'mp-1049056', 'ban...       NM  \n",
       "1                                                NaN       NM  \n",
       "2                                                NaN       FM  \n",
       "3                                                NaN       NM  \n",
       "4                                                NaN       NM  "
      ]
     },
     "execution_count": 39,
     "metadata": {},
     "output_type": "execute_result"
    }
   ],
   "source": [
    "categorical_df.head()\n",
    "\n",
    "\n"
   ]
  },
  {
   "cell_type": "code",
   "execution_count": null,
   "metadata": {},
   "outputs": [],
   "source": [
    "numerical_df.to_csv('../dataset/cleaned_numerical_data.csv', index=False)\n",
    "categorical_df.to_csv('../dataset/cleaned_categorical_data.csv', index=False)"
   ]
  }
 ],
 "metadata": {
  "kernelspec": {
   "display_name": "base",
   "language": "python",
   "name": "python3"
  },
  "language_info": {
   "codemirror_mode": {
    "name": "ipython",
    "version": 3
   },
   "file_extension": ".py",
   "mimetype": "text/x-python",
   "name": "python",
   "nbconvert_exporter": "python",
   "pygments_lexer": "ipython3",
   "version": "3.12.2"
  }
 },
 "nbformat": 4,
 "nbformat_minor": 2
}
