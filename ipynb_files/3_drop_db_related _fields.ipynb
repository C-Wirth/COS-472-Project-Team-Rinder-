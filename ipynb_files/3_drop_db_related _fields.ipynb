{
 "cells": [
  {
   "cell_type": "code",
   "execution_count": 19,
   "metadata": {},
   "outputs": [],
   "source": [
    "import pandas as pd\n",
    "import matplotlib.pyplot as plt\n",
    "import numpy as np\n",
    "import seaborn as sns"
   ]
  },
  {
   "cell_type": "code",
   "execution_count": 20,
   "metadata": {},
   "outputs": [
    {
     "name": "stderr",
     "output_type": "stream",
     "text": [
      "/var/folders/xk/fhgbj8qj60n54b05mpfnck0w0000gn/T/ipykernel_1532/1010856339.py:1: DtypeWarning: Columns (31,36,37,62) have mixed types. Specify dtype option on import or set low_memory=False.\n",
      "  df = pd.read_csv('../no_duplicates.csv')\n"
     ]
    }
   ],
   "source": [
    "df = pd.read_csv('../no_duplicates.csv')"
   ]
  },
  {
   "cell_type": "code",
   "execution_count": 21,
   "metadata": {},
   "outputs": [
    {
     "data": {
      "text/plain": [
       "(155361, 67)"
      ]
     },
     "execution_count": 21,
     "metadata": {},
     "output_type": "execute_result"
    }
   ],
   "source": [
    "df.shape"
   ]
  },
  {
   "cell_type": "code",
   "execution_count": 22,
   "metadata": {},
   "outputs": [
    {
     "data": {
      "text/plain": [
       "Index(['_id', 'builder_meta', 'nsites', 'elements', 'nelements', 'composition',\n",
       "       'composition_reduced', 'formula_pretty', 'formula_anonymous', 'chemsys',\n",
       "       'volume', 'density', 'density_atomic', 'symmetry', 'property_name',\n",
       "       'material_id', 'deprecated', 'deprecation_reasons', 'last_updated',\n",
       "       'origins', 'warnings', 'structure', 'task_ids',\n",
       "       'uncorrected_energy_per_atom', 'energy_per_atom',\n",
       "       'formation_energy_per_atom', 'energy_above_hull', 'is_stable',\n",
       "       'equilibrium_reaction_energy_per_atom', 'decomposes_to', 'xas',\n",
       "       'grain_boundaries', 'band_gap', 'cbm', 'vbm', 'efermi', 'is_gap_direct',\n",
       "       'is_metal', 'bandstructure', 'dos', 'is_magnetic', 'ordering',\n",
       "       'total_magnetization', 'total_magnetization_normalized_vol',\n",
       "       'total_magnetization_normalized_formula_units', 'num_magnetic_sites',\n",
       "       'num_unique_magnetic_sites', 'types_of_magnetic_species',\n",
       "       'bulk_modulus', 'shear_modulus', 'universal_anisotropy',\n",
       "       'homogeneous_poisson', 'e_total', 'e_ionic', 'e_electronic', 'n',\n",
       "       'e_ij_max', 'weighted_surface_energy_EV_PER_ANG2',\n",
       "       'weighted_surface_energy', 'weighted_work_function',\n",
       "       'surface_anisotropy', 'shape_factor', 'has_reconstructed',\n",
       "       'possible_species', 'has_props', 'theoretical', 'database_IDs'],\n",
       "      dtype='object')"
      ]
     },
     "execution_count": 22,
     "metadata": {},
     "output_type": "execute_result"
    }
   ],
   "source": [
    "df.columns"
   ]
  },
  {
   "cell_type": "code",
   "execution_count": 23,
   "metadata": {},
   "outputs": [],
   "source": [
    "df.drop(columns=['builder_meta', 'database_IDs', 'last_updated', 'origins', '_id', 'deprecation_reasons', \n",
    "                 'uncorrected_energy_per_atom', 'task_ids','warnings'], inplace=True)\n"
   ]
  },
  {
   "cell_type": "code",
   "execution_count": 24,
   "metadata": {},
   "outputs": [],
   "source": [
    "col = df.pop('formula_pretty')  # Remove the column\n",
    "\n",
    "df.insert(0, 'formula_pretty', col)  # Insert it at the new position"
   ]
  },
  {
   "cell_type": "code",
   "execution_count": 25,
   "metadata": {},
   "outputs": [],
   "source": [
    "df['formula_pretty'] = df['formula_pretty'].astype(str)\n"
   ]
  },
  {
   "cell_type": "code",
   "execution_count": 26,
   "metadata": {},
   "outputs": [
    {
     "name": "stdout",
     "output_type": "stream",
     "text": [
      "<class 'pandas.core.frame.DataFrame'>\n",
      "RangeIndex: 155361 entries, 0 to 155360\n",
      "Data columns (total 58 columns):\n",
      " #   Column                                        Non-Null Count   Dtype  \n",
      "---  ------                                        --------------   -----  \n",
      " 0   formula_pretty                                155361 non-null  object \n",
      " 1   nsites                                        155361 non-null  int64  \n",
      " 2   elements                                      155361 non-null  object \n",
      " 3   nelements                                     155361 non-null  int64  \n",
      " 4   composition                                   155361 non-null  object \n",
      " 5   composition_reduced                           155361 non-null  object \n",
      " 6   formula_anonymous                             155361 non-null  object \n",
      " 7   chemsys                                       155361 non-null  object \n",
      " 8   volume                                        155361 non-null  float64\n",
      " 9   density                                       155361 non-null  float64\n",
      " 10  density_atomic                                155361 non-null  float64\n",
      " 11  symmetry                                      155361 non-null  object \n",
      " 12  property_name                                 155361 non-null  object \n",
      " 13  material_id                                   155361 non-null  object \n",
      " 14  deprecated                                    155361 non-null  bool   \n",
      " 15  structure                                     155361 non-null  object \n",
      " 16  energy_per_atom                               152149 non-null  float64\n",
      " 17  formation_energy_per_atom                     152149 non-null  float64\n",
      " 18  energy_above_hull                             152149 non-null  float64\n",
      " 19  is_stable                                     155361 non-null  bool   \n",
      " 20  equilibrium_reaction_energy_per_atom          33731 non-null   float64\n",
      " 21  decomposes_to                                 118418 non-null  object \n",
      " 22  xas                                           60920 non-null   object \n",
      " 23  grain_boundaries                              58 non-null      object \n",
      " 24  band_gap                                      155353 non-null  float64\n",
      " 25  cbm                                           91107 non-null   float64\n",
      " 26  vbm                                           91107 non-null   float64\n",
      " 27  efermi                                        155313 non-null  float64\n",
      " 28  is_gap_direct                                 155353 non-null  object \n",
      " 29  is_metal                                      155353 non-null  object \n",
      " 30  bandstructure                                 71727 non-null   object \n",
      " 31  dos                                           89547 non-null   object \n",
      " 32  is_magnetic                                   154379 non-null  object \n",
      " 33  ordering                                      154379 non-null  object \n",
      " 34  total_magnetization                           154379 non-null  float64\n",
      " 35  total_magnetization_normalized_vol            154379 non-null  float64\n",
      " 36  total_magnetization_normalized_formula_units  154379 non-null  float64\n",
      " 37  num_magnetic_sites                            154379 non-null  float64\n",
      " 38  num_unique_magnetic_sites                     154379 non-null  float64\n",
      " 39  types_of_magnetic_species                     154379 non-null  object \n",
      " 40  bulk_modulus                                  12259 non-null   object \n",
      " 41  shear_modulus                                 12259 non-null   object \n",
      " 42  universal_anisotropy                          12259 non-null   float64\n",
      " 43  homogeneous_poisson                           12259 non-null   float64\n",
      " 44  e_total                                       7287 non-null    float64\n",
      " 45  e_ionic                                       7287 non-null    float64\n",
      " 46  e_electronic                                  7287 non-null    float64\n",
      " 47  n                                             7287 non-null    float64\n",
      " 48  e_ij_max                                      3299 non-null    float64\n",
      " 49  weighted_surface_energy_EV_PER_ANG2           133 non-null     float64\n",
      " 50  weighted_surface_energy                       133 non-null     float64\n",
      " 51  weighted_work_function                        133 non-null     float64\n",
      " 52  surface_anisotropy                            133 non-null     float64\n",
      " 53  shape_factor                                  133 non-null     float64\n",
      " 54  has_reconstructed                             138 non-null     object \n",
      " 55  possible_species                              155353 non-null  object \n",
      " 56  has_props                                     155361 non-null  object \n",
      " 57  theoretical                                   155361 non-null  bool   \n",
      "dtypes: bool(3), float64(28), int64(2), object(25)\n",
      "memory usage: 65.6+ MB\n"
     ]
    }
   ],
   "source": [
    "df.info()"
   ]
  },
  {
   "cell_type": "code",
   "execution_count": 27,
   "metadata": {},
   "outputs": [],
   "source": [
    "df.to_csv('../no_db_labels.csv', index=False)"
   ]
  }
 ],
 "metadata": {
  "kernelspec": {
   "display_name": "base",
   "language": "python",
   "name": "python3"
  },
  "language_info": {
   "codemirror_mode": {
    "name": "ipython",
    "version": 3
   },
   "file_extension": ".py",
   "mimetype": "text/x-python",
   "name": "python",
   "nbconvert_exporter": "python",
   "pygments_lexer": "ipython3",
   "version": "undefined.undefined.undefined"
  }
 },
 "nbformat": 4,
 "nbformat_minor": 2
}
