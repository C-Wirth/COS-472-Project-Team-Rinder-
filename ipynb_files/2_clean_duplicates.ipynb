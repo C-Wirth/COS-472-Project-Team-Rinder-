{
 "cells": [
  {
   "cell_type": "code",
   "execution_count": 1,
   "metadata": {},
   "outputs": [
    {
     "ename": "FileNotFoundError",
     "evalue": "[Errno 2] No such file or directory: '../dataset/materials_summary.csv'",
     "output_type": "error",
     "traceback": [
      "\u001b[0;31m---------------------------------------------------------------------------\u001b[0m",
      "\u001b[0;31mFileNotFoundError\u001b[0m                         Traceback (most recent call last)",
      "Cell \u001b[0;32mIn[1], line 10\u001b[0m\n\u001b[1;32m      7\u001b[0m \u001b[38;5;28;01mimport\u001b[39;00m \u001b[38;5;21;01mmatplotlib\u001b[39;00m\u001b[38;5;21;01m.\u001b[39;00m\u001b[38;5;21;01mpyplot\u001b[39;00m \u001b[38;5;28;01mas\u001b[39;00m \u001b[38;5;21;01mplt\u001b[39;00m\n\u001b[1;32m      8\u001b[0m \u001b[38;5;28;01mimport\u001b[39;00m \u001b[38;5;21;01mnumpy\u001b[39;00m \u001b[38;5;28;01mas\u001b[39;00m \u001b[38;5;21;01mnp\u001b[39;00m\n\u001b[0;32m---> 10\u001b[0m df \u001b[38;5;241m=\u001b[39m \u001b[43mpd\u001b[49m\u001b[38;5;241;43m.\u001b[39;49m\u001b[43mread_csv\u001b[49m\u001b[43m(\u001b[49m\u001b[38;5;124;43m\"\u001b[39;49m\u001b[38;5;124;43m../dataset/materials_summary.csv\u001b[39;49m\u001b[38;5;124;43m\"\u001b[39;49m\u001b[43m)\u001b[49m\n",
      "File \u001b[0;32m/opt/anaconda3/envs/n/lib/python3.12/site-packages/pandas/io/parsers/readers.py:1026\u001b[0m, in \u001b[0;36mread_csv\u001b[0;34m(filepath_or_buffer, sep, delimiter, header, names, index_col, usecols, dtype, engine, converters, true_values, false_values, skipinitialspace, skiprows, skipfooter, nrows, na_values, keep_default_na, na_filter, verbose, skip_blank_lines, parse_dates, infer_datetime_format, keep_date_col, date_parser, date_format, dayfirst, cache_dates, iterator, chunksize, compression, thousands, decimal, lineterminator, quotechar, quoting, doublequote, escapechar, comment, encoding, encoding_errors, dialect, on_bad_lines, delim_whitespace, low_memory, memory_map, float_precision, storage_options, dtype_backend)\u001b[0m\n\u001b[1;32m   1013\u001b[0m kwds_defaults \u001b[38;5;241m=\u001b[39m _refine_defaults_read(\n\u001b[1;32m   1014\u001b[0m     dialect,\n\u001b[1;32m   1015\u001b[0m     delimiter,\n\u001b[0;32m   (...)\u001b[0m\n\u001b[1;32m   1022\u001b[0m     dtype_backend\u001b[38;5;241m=\u001b[39mdtype_backend,\n\u001b[1;32m   1023\u001b[0m )\n\u001b[1;32m   1024\u001b[0m kwds\u001b[38;5;241m.\u001b[39mupdate(kwds_defaults)\n\u001b[0;32m-> 1026\u001b[0m \u001b[38;5;28;01mreturn\u001b[39;00m \u001b[43m_read\u001b[49m\u001b[43m(\u001b[49m\u001b[43mfilepath_or_buffer\u001b[49m\u001b[43m,\u001b[49m\u001b[43m \u001b[49m\u001b[43mkwds\u001b[49m\u001b[43m)\u001b[49m\n",
      "File \u001b[0;32m/opt/anaconda3/envs/n/lib/python3.12/site-packages/pandas/io/parsers/readers.py:620\u001b[0m, in \u001b[0;36m_read\u001b[0;34m(filepath_or_buffer, kwds)\u001b[0m\n\u001b[1;32m    617\u001b[0m _validate_names(kwds\u001b[38;5;241m.\u001b[39mget(\u001b[38;5;124m\"\u001b[39m\u001b[38;5;124mnames\u001b[39m\u001b[38;5;124m\"\u001b[39m, \u001b[38;5;28;01mNone\u001b[39;00m))\n\u001b[1;32m    619\u001b[0m \u001b[38;5;66;03m# Create the parser.\u001b[39;00m\n\u001b[0;32m--> 620\u001b[0m parser \u001b[38;5;241m=\u001b[39m \u001b[43mTextFileReader\u001b[49m\u001b[43m(\u001b[49m\u001b[43mfilepath_or_buffer\u001b[49m\u001b[43m,\u001b[49m\u001b[43m \u001b[49m\u001b[38;5;241;43m*\u001b[39;49m\u001b[38;5;241;43m*\u001b[39;49m\u001b[43mkwds\u001b[49m\u001b[43m)\u001b[49m\n\u001b[1;32m    622\u001b[0m \u001b[38;5;28;01mif\u001b[39;00m chunksize \u001b[38;5;129;01mor\u001b[39;00m iterator:\n\u001b[1;32m    623\u001b[0m     \u001b[38;5;28;01mreturn\u001b[39;00m parser\n",
      "File \u001b[0;32m/opt/anaconda3/envs/n/lib/python3.12/site-packages/pandas/io/parsers/readers.py:1620\u001b[0m, in \u001b[0;36mTextFileReader.__init__\u001b[0;34m(self, f, engine, **kwds)\u001b[0m\n\u001b[1;32m   1617\u001b[0m     \u001b[38;5;28mself\u001b[39m\u001b[38;5;241m.\u001b[39moptions[\u001b[38;5;124m\"\u001b[39m\u001b[38;5;124mhas_index_names\u001b[39m\u001b[38;5;124m\"\u001b[39m] \u001b[38;5;241m=\u001b[39m kwds[\u001b[38;5;124m\"\u001b[39m\u001b[38;5;124mhas_index_names\u001b[39m\u001b[38;5;124m\"\u001b[39m]\n\u001b[1;32m   1619\u001b[0m \u001b[38;5;28mself\u001b[39m\u001b[38;5;241m.\u001b[39mhandles: IOHandles \u001b[38;5;241m|\u001b[39m \u001b[38;5;28;01mNone\u001b[39;00m \u001b[38;5;241m=\u001b[39m \u001b[38;5;28;01mNone\u001b[39;00m\n\u001b[0;32m-> 1620\u001b[0m \u001b[38;5;28mself\u001b[39m\u001b[38;5;241m.\u001b[39m_engine \u001b[38;5;241m=\u001b[39m \u001b[38;5;28;43mself\u001b[39;49m\u001b[38;5;241;43m.\u001b[39;49m\u001b[43m_make_engine\u001b[49m\u001b[43m(\u001b[49m\u001b[43mf\u001b[49m\u001b[43m,\u001b[49m\u001b[43m \u001b[49m\u001b[38;5;28;43mself\u001b[39;49m\u001b[38;5;241;43m.\u001b[39;49m\u001b[43mengine\u001b[49m\u001b[43m)\u001b[49m\n",
      "File \u001b[0;32m/opt/anaconda3/envs/n/lib/python3.12/site-packages/pandas/io/parsers/readers.py:1880\u001b[0m, in \u001b[0;36mTextFileReader._make_engine\u001b[0;34m(self, f, engine)\u001b[0m\n\u001b[1;32m   1878\u001b[0m     \u001b[38;5;28;01mif\u001b[39;00m \u001b[38;5;124m\"\u001b[39m\u001b[38;5;124mb\u001b[39m\u001b[38;5;124m\"\u001b[39m \u001b[38;5;129;01mnot\u001b[39;00m \u001b[38;5;129;01min\u001b[39;00m mode:\n\u001b[1;32m   1879\u001b[0m         mode \u001b[38;5;241m+\u001b[39m\u001b[38;5;241m=\u001b[39m \u001b[38;5;124m\"\u001b[39m\u001b[38;5;124mb\u001b[39m\u001b[38;5;124m\"\u001b[39m\n\u001b[0;32m-> 1880\u001b[0m \u001b[38;5;28mself\u001b[39m\u001b[38;5;241m.\u001b[39mhandles \u001b[38;5;241m=\u001b[39m \u001b[43mget_handle\u001b[49m\u001b[43m(\u001b[49m\n\u001b[1;32m   1881\u001b[0m \u001b[43m    \u001b[49m\u001b[43mf\u001b[49m\u001b[43m,\u001b[49m\n\u001b[1;32m   1882\u001b[0m \u001b[43m    \u001b[49m\u001b[43mmode\u001b[49m\u001b[43m,\u001b[49m\n\u001b[1;32m   1883\u001b[0m \u001b[43m    \u001b[49m\u001b[43mencoding\u001b[49m\u001b[38;5;241;43m=\u001b[39;49m\u001b[38;5;28;43mself\u001b[39;49m\u001b[38;5;241;43m.\u001b[39;49m\u001b[43moptions\u001b[49m\u001b[38;5;241;43m.\u001b[39;49m\u001b[43mget\u001b[49m\u001b[43m(\u001b[49m\u001b[38;5;124;43m\"\u001b[39;49m\u001b[38;5;124;43mencoding\u001b[39;49m\u001b[38;5;124;43m\"\u001b[39;49m\u001b[43m,\u001b[49m\u001b[43m \u001b[49m\u001b[38;5;28;43;01mNone\u001b[39;49;00m\u001b[43m)\u001b[49m\u001b[43m,\u001b[49m\n\u001b[1;32m   1884\u001b[0m \u001b[43m    \u001b[49m\u001b[43mcompression\u001b[49m\u001b[38;5;241;43m=\u001b[39;49m\u001b[38;5;28;43mself\u001b[39;49m\u001b[38;5;241;43m.\u001b[39;49m\u001b[43moptions\u001b[49m\u001b[38;5;241;43m.\u001b[39;49m\u001b[43mget\u001b[49m\u001b[43m(\u001b[49m\u001b[38;5;124;43m\"\u001b[39;49m\u001b[38;5;124;43mcompression\u001b[39;49m\u001b[38;5;124;43m\"\u001b[39;49m\u001b[43m,\u001b[49m\u001b[43m \u001b[49m\u001b[38;5;28;43;01mNone\u001b[39;49;00m\u001b[43m)\u001b[49m\u001b[43m,\u001b[49m\n\u001b[1;32m   1885\u001b[0m \u001b[43m    \u001b[49m\u001b[43mmemory_map\u001b[49m\u001b[38;5;241;43m=\u001b[39;49m\u001b[38;5;28;43mself\u001b[39;49m\u001b[38;5;241;43m.\u001b[39;49m\u001b[43moptions\u001b[49m\u001b[38;5;241;43m.\u001b[39;49m\u001b[43mget\u001b[49m\u001b[43m(\u001b[49m\u001b[38;5;124;43m\"\u001b[39;49m\u001b[38;5;124;43mmemory_map\u001b[39;49m\u001b[38;5;124;43m\"\u001b[39;49m\u001b[43m,\u001b[49m\u001b[43m \u001b[49m\u001b[38;5;28;43;01mFalse\u001b[39;49;00m\u001b[43m)\u001b[49m\u001b[43m,\u001b[49m\n\u001b[1;32m   1886\u001b[0m \u001b[43m    \u001b[49m\u001b[43mis_text\u001b[49m\u001b[38;5;241;43m=\u001b[39;49m\u001b[43mis_text\u001b[49m\u001b[43m,\u001b[49m\n\u001b[1;32m   1887\u001b[0m \u001b[43m    \u001b[49m\u001b[43merrors\u001b[49m\u001b[38;5;241;43m=\u001b[39;49m\u001b[38;5;28;43mself\u001b[39;49m\u001b[38;5;241;43m.\u001b[39;49m\u001b[43moptions\u001b[49m\u001b[38;5;241;43m.\u001b[39;49m\u001b[43mget\u001b[49m\u001b[43m(\u001b[49m\u001b[38;5;124;43m\"\u001b[39;49m\u001b[38;5;124;43mencoding_errors\u001b[39;49m\u001b[38;5;124;43m\"\u001b[39;49m\u001b[43m,\u001b[49m\u001b[43m \u001b[49m\u001b[38;5;124;43m\"\u001b[39;49m\u001b[38;5;124;43mstrict\u001b[39;49m\u001b[38;5;124;43m\"\u001b[39;49m\u001b[43m)\u001b[49m\u001b[43m,\u001b[49m\n\u001b[1;32m   1888\u001b[0m \u001b[43m    \u001b[49m\u001b[43mstorage_options\u001b[49m\u001b[38;5;241;43m=\u001b[39;49m\u001b[38;5;28;43mself\u001b[39;49m\u001b[38;5;241;43m.\u001b[39;49m\u001b[43moptions\u001b[49m\u001b[38;5;241;43m.\u001b[39;49m\u001b[43mget\u001b[49m\u001b[43m(\u001b[49m\u001b[38;5;124;43m\"\u001b[39;49m\u001b[38;5;124;43mstorage_options\u001b[39;49m\u001b[38;5;124;43m\"\u001b[39;49m\u001b[43m,\u001b[49m\u001b[43m \u001b[49m\u001b[38;5;28;43;01mNone\u001b[39;49;00m\u001b[43m)\u001b[49m\u001b[43m,\u001b[49m\n\u001b[1;32m   1889\u001b[0m \u001b[43m\u001b[49m\u001b[43m)\u001b[49m\n\u001b[1;32m   1890\u001b[0m \u001b[38;5;28;01massert\u001b[39;00m \u001b[38;5;28mself\u001b[39m\u001b[38;5;241m.\u001b[39mhandles \u001b[38;5;129;01mis\u001b[39;00m \u001b[38;5;129;01mnot\u001b[39;00m \u001b[38;5;28;01mNone\u001b[39;00m\n\u001b[1;32m   1891\u001b[0m f \u001b[38;5;241m=\u001b[39m \u001b[38;5;28mself\u001b[39m\u001b[38;5;241m.\u001b[39mhandles\u001b[38;5;241m.\u001b[39mhandle\n",
      "File \u001b[0;32m/opt/anaconda3/envs/n/lib/python3.12/site-packages/pandas/io/common.py:873\u001b[0m, in \u001b[0;36mget_handle\u001b[0;34m(path_or_buf, mode, encoding, compression, memory_map, is_text, errors, storage_options)\u001b[0m\n\u001b[1;32m    868\u001b[0m \u001b[38;5;28;01melif\u001b[39;00m \u001b[38;5;28misinstance\u001b[39m(handle, \u001b[38;5;28mstr\u001b[39m):\n\u001b[1;32m    869\u001b[0m     \u001b[38;5;66;03m# Check whether the filename is to be opened in binary mode.\u001b[39;00m\n\u001b[1;32m    870\u001b[0m     \u001b[38;5;66;03m# Binary mode does not support 'encoding' and 'newline'.\u001b[39;00m\n\u001b[1;32m    871\u001b[0m     \u001b[38;5;28;01mif\u001b[39;00m ioargs\u001b[38;5;241m.\u001b[39mencoding \u001b[38;5;129;01mand\u001b[39;00m \u001b[38;5;124m\"\u001b[39m\u001b[38;5;124mb\u001b[39m\u001b[38;5;124m\"\u001b[39m \u001b[38;5;129;01mnot\u001b[39;00m \u001b[38;5;129;01min\u001b[39;00m ioargs\u001b[38;5;241m.\u001b[39mmode:\n\u001b[1;32m    872\u001b[0m         \u001b[38;5;66;03m# Encoding\u001b[39;00m\n\u001b[0;32m--> 873\u001b[0m         handle \u001b[38;5;241m=\u001b[39m \u001b[38;5;28;43mopen\u001b[39;49m\u001b[43m(\u001b[49m\n\u001b[1;32m    874\u001b[0m \u001b[43m            \u001b[49m\u001b[43mhandle\u001b[49m\u001b[43m,\u001b[49m\n\u001b[1;32m    875\u001b[0m \u001b[43m            \u001b[49m\u001b[43mioargs\u001b[49m\u001b[38;5;241;43m.\u001b[39;49m\u001b[43mmode\u001b[49m\u001b[43m,\u001b[49m\n\u001b[1;32m    876\u001b[0m \u001b[43m            \u001b[49m\u001b[43mencoding\u001b[49m\u001b[38;5;241;43m=\u001b[39;49m\u001b[43mioargs\u001b[49m\u001b[38;5;241;43m.\u001b[39;49m\u001b[43mencoding\u001b[49m\u001b[43m,\u001b[49m\n\u001b[1;32m    877\u001b[0m \u001b[43m            \u001b[49m\u001b[43merrors\u001b[49m\u001b[38;5;241;43m=\u001b[39;49m\u001b[43merrors\u001b[49m\u001b[43m,\u001b[49m\n\u001b[1;32m    878\u001b[0m \u001b[43m            \u001b[49m\u001b[43mnewline\u001b[49m\u001b[38;5;241;43m=\u001b[39;49m\u001b[38;5;124;43m\"\u001b[39;49m\u001b[38;5;124;43m\"\u001b[39;49m\u001b[43m,\u001b[49m\n\u001b[1;32m    879\u001b[0m \u001b[43m        \u001b[49m\u001b[43m)\u001b[49m\n\u001b[1;32m    880\u001b[0m     \u001b[38;5;28;01melse\u001b[39;00m:\n\u001b[1;32m    881\u001b[0m         \u001b[38;5;66;03m# Binary mode\u001b[39;00m\n\u001b[1;32m    882\u001b[0m         handle \u001b[38;5;241m=\u001b[39m \u001b[38;5;28mopen\u001b[39m(handle, ioargs\u001b[38;5;241m.\u001b[39mmode)\n",
      "\u001b[0;31mFileNotFoundError\u001b[0m: [Errno 2] No such file or directory: '../dataset/materials_summary.csv'"
     ]
    }
   ],
   "source": [
    "#Skip this file if you already have the data\n",
    "\n",
    "#This file attempts duplicates\n",
    "\n",
    "\n",
    "import pandas as pd\n",
    "import matplotlib.pyplot as plt\n",
    "import numpy as np\n",
    "\n",
    "df = pd.read_csv(\"../dataset/materials_summary.csv\")\n"
   ]
  },
  {
   "cell_type": "code",
   "execution_count": 2,
   "metadata": {},
   "outputs": [
    {
     "data": {
      "text/plain": [
       "(155361, 70)"
      ]
     },
     "execution_count": 2,
     "metadata": {},
     "output_type": "execute_result"
    }
   ],
   "source": [
    "df.shape"
   ]
  },
  {
   "cell_type": "code",
   "execution_count": 3,
   "metadata": {},
   "outputs": [
    {
     "data": {
      "text/plain": [
       "Index(['_id', 'builder_meta', 'nsites', 'elements', 'nelements', 'composition',\n",
       "       'composition_reduced', 'formula_pretty', 'formula_anonymous', 'chemsys',\n",
       "       'volume', 'density', 'density_atomic', 'symmetry', 'property_name',\n",
       "       'material_id', 'deprecated', 'deprecation_reasons', 'last_updated',\n",
       "       'origins', 'warnings', 'structure', 'task_ids',\n",
       "       'uncorrected_energy_per_atom', 'energy_per_atom',\n",
       "       'formation_energy_per_atom', 'energy_above_hull', 'is_stable',\n",
       "       'equilibrium_reaction_energy_per_atom', 'decomposes_to', 'xas',\n",
       "       'grain_boundaries', 'band_gap', 'cbm', 'vbm', 'efermi', 'is_gap_direct',\n",
       "       'is_metal', 'es_source_calc_id', 'bandstructure', 'dos',\n",
       "       'dos_energy_up', 'dos_energy_down', 'is_magnetic', 'ordering',\n",
       "       'total_magnetization', 'total_magnetization_normalized_vol',\n",
       "       'total_magnetization_normalized_formula_units', 'num_magnetic_sites',\n",
       "       'num_unique_magnetic_sites', 'types_of_magnetic_species',\n",
       "       'bulk_modulus', 'shear_modulus', 'universal_anisotropy',\n",
       "       'homogeneous_poisson', 'e_total', 'e_ionic', 'e_electronic', 'n',\n",
       "       'e_ij_max', 'weighted_surface_energy_EV_PER_ANG2',\n",
       "       'weighted_surface_energy', 'weighted_work_function',\n",
       "       'surface_anisotropy', 'shape_factor', 'has_reconstructed',\n",
       "       'possible_species', 'has_props', 'theoretical', 'database_IDs'],\n",
       "      dtype='object')"
      ]
     },
     "execution_count": 3,
     "metadata": {},
     "output_type": "execute_result"
    }
   ],
   "source": [
    "df.columns"
   ]
  },
  {
   "cell_type": "code",
   "execution_count": 4,
   "metadata": {},
   "outputs": [
    {
     "data": {
      "text/html": [
       "<div>\n",
       "<style scoped>\n",
       "    .dataframe tbody tr th:only-of-type {\n",
       "        vertical-align: middle;\n",
       "    }\n",
       "\n",
       "    .dataframe tbody tr th {\n",
       "        vertical-align: top;\n",
       "    }\n",
       "\n",
       "    .dataframe thead th {\n",
       "        text-align: right;\n",
       "    }\n",
       "</style>\n",
       "<table border=\"1\" class=\"dataframe\">\n",
       "  <thead>\n",
       "    <tr style=\"text-align: right;\">\n",
       "      <th></th>\n",
       "      <th>_id</th>\n",
       "      <th>builder_meta</th>\n",
       "      <th>nsites</th>\n",
       "      <th>elements</th>\n",
       "      <th>nelements</th>\n",
       "      <th>composition</th>\n",
       "      <th>composition_reduced</th>\n",
       "      <th>formula_pretty</th>\n",
       "      <th>formula_anonymous</th>\n",
       "      <th>chemsys</th>\n",
       "      <th>...</th>\n",
       "      <th>weighted_surface_energy_EV_PER_ANG2</th>\n",
       "      <th>weighted_surface_energy</th>\n",
       "      <th>weighted_work_function</th>\n",
       "      <th>surface_anisotropy</th>\n",
       "      <th>shape_factor</th>\n",
       "      <th>has_reconstructed</th>\n",
       "      <th>possible_species</th>\n",
       "      <th>has_props</th>\n",
       "      <th>theoretical</th>\n",
       "      <th>database_IDs</th>\n",
       "    </tr>\n",
       "  </thead>\n",
       "  <tbody>\n",
       "    <tr>\n",
       "      <th>0</th>\n",
       "      <td>654abc583e1d94017b52ca57</td>\n",
       "      <td>{'emmet_version': '0.72.13', 'pymatgen_version...</td>\n",
       "      <td>8</td>\n",
       "      <td>['Si']</td>\n",
       "      <td>1</td>\n",
       "      <td>{'Si': 8.0}</td>\n",
       "      <td>{'Si': 1.0}</td>\n",
       "      <td>Si</td>\n",
       "      <td>A</td>\n",
       "      <td>Si</td>\n",
       "      <td>...</td>\n",
       "      <td>NaN</td>\n",
       "      <td>NaN</td>\n",
       "      <td>NaN</td>\n",
       "      <td>NaN</td>\n",
       "      <td>NaN</td>\n",
       "      <td>NaN</td>\n",
       "      <td>[]</td>\n",
       "      <td>{'materials': True, 'thermo': True, 'xas': Tru...</td>\n",
       "      <td>True</td>\n",
       "      <td>{}</td>\n",
       "    </tr>\n",
       "    <tr>\n",
       "      <th>1</th>\n",
       "      <td>654abc593e1d94017b52d5c7</td>\n",
       "      <td>{'emmet_version': '0.72.13', 'pymatgen_version...</td>\n",
       "      <td>100</td>\n",
       "      <td>['Ti']</td>\n",
       "      <td>1</td>\n",
       "      <td>{'Ti': 100.0}</td>\n",
       "      <td>{'Ti': 1.0}</td>\n",
       "      <td>Ti</td>\n",
       "      <td>A</td>\n",
       "      <td>Ti</td>\n",
       "      <td>...</td>\n",
       "      <td>NaN</td>\n",
       "      <td>NaN</td>\n",
       "      <td>NaN</td>\n",
       "      <td>NaN</td>\n",
       "      <td>NaN</td>\n",
       "      <td>NaN</td>\n",
       "      <td>[]</td>\n",
       "      <td>{'materials': True, 'thermo': True, 'xas': Fal...</td>\n",
       "      <td>True</td>\n",
       "      <td>{}</td>\n",
       "    </tr>\n",
       "    <tr>\n",
       "      <th>2</th>\n",
       "      <td>654abcf13e1d94017b57b4a7</td>\n",
       "      <td>{'emmet_version': '0.72.13', 'pymatgen_version...</td>\n",
       "      <td>100</td>\n",
       "      <td>['C']</td>\n",
       "      <td>1</td>\n",
       "      <td>{'C': 100.0}</td>\n",
       "      <td>{'C': 1.0}</td>\n",
       "      <td>C</td>\n",
       "      <td>A</td>\n",
       "      <td>C</td>\n",
       "      <td>...</td>\n",
       "      <td>NaN</td>\n",
       "      <td>NaN</td>\n",
       "      <td>NaN</td>\n",
       "      <td>NaN</td>\n",
       "      <td>NaN</td>\n",
       "      <td>NaN</td>\n",
       "      <td>[]</td>\n",
       "      <td>{'materials': True, 'thermo': True, 'xas': Fal...</td>\n",
       "      <td>True</td>\n",
       "      <td>{}</td>\n",
       "    </tr>\n",
       "    <tr>\n",
       "      <th>3</th>\n",
       "      <td>654abcf63e1d94017b57f508</td>\n",
       "      <td>{'emmet_version': '0.72.13', 'pymatgen_version...</td>\n",
       "      <td>100</td>\n",
       "      <td>['Zn']</td>\n",
       "      <td>1</td>\n",
       "      <td>{'Zn': 100.0}</td>\n",
       "      <td>{'Zn': 1.0}</td>\n",
       "      <td>Zn</td>\n",
       "      <td>A</td>\n",
       "      <td>Zn</td>\n",
       "      <td>...</td>\n",
       "      <td>NaN</td>\n",
       "      <td>NaN</td>\n",
       "      <td>NaN</td>\n",
       "      <td>NaN</td>\n",
       "      <td>NaN</td>\n",
       "      <td>NaN</td>\n",
       "      <td>[]</td>\n",
       "      <td>{'materials': True, 'thermo': True, 'xas': Fal...</td>\n",
       "      <td>True</td>\n",
       "      <td>{}</td>\n",
       "    </tr>\n",
       "    <tr>\n",
       "      <th>4</th>\n",
       "      <td>654abcf63e1d94017b57f816</td>\n",
       "      <td>{'emmet_version': '0.72.13', 'pymatgen_version...</td>\n",
       "      <td>100</td>\n",
       "      <td>['Si']</td>\n",
       "      <td>1</td>\n",
       "      <td>{'Si': 100.0}</td>\n",
       "      <td>{'Si': 1.0}</td>\n",
       "      <td>Si</td>\n",
       "      <td>A</td>\n",
       "      <td>Si</td>\n",
       "      <td>...</td>\n",
       "      <td>NaN</td>\n",
       "      <td>NaN</td>\n",
       "      <td>NaN</td>\n",
       "      <td>NaN</td>\n",
       "      <td>NaN</td>\n",
       "      <td>NaN</td>\n",
       "      <td>[]</td>\n",
       "      <td>{'materials': True, 'thermo': True, 'xas': Fal...</td>\n",
       "      <td>True</td>\n",
       "      <td>{}</td>\n",
       "    </tr>\n",
       "  </tbody>\n",
       "</table>\n",
       "<p>5 rows × 70 columns</p>\n",
       "</div>"
      ],
      "text/plain": [
       "                        _id  \\\n",
       "0  654abc583e1d94017b52ca57   \n",
       "1  654abc593e1d94017b52d5c7   \n",
       "2  654abcf13e1d94017b57b4a7   \n",
       "3  654abcf63e1d94017b57f508   \n",
       "4  654abcf63e1d94017b57f816   \n",
       "\n",
       "                                        builder_meta  nsites elements  \\\n",
       "0  {'emmet_version': '0.72.13', 'pymatgen_version...       8   ['Si']   \n",
       "1  {'emmet_version': '0.72.13', 'pymatgen_version...     100   ['Ti']   \n",
       "2  {'emmet_version': '0.72.13', 'pymatgen_version...     100    ['C']   \n",
       "3  {'emmet_version': '0.72.13', 'pymatgen_version...     100   ['Zn']   \n",
       "4  {'emmet_version': '0.72.13', 'pymatgen_version...     100   ['Si']   \n",
       "\n",
       "   nelements    composition composition_reduced formula_pretty  \\\n",
       "0          1    {'Si': 8.0}         {'Si': 1.0}             Si   \n",
       "1          1  {'Ti': 100.0}         {'Ti': 1.0}             Ti   \n",
       "2          1   {'C': 100.0}          {'C': 1.0}              C   \n",
       "3          1  {'Zn': 100.0}         {'Zn': 1.0}             Zn   \n",
       "4          1  {'Si': 100.0}         {'Si': 1.0}             Si   \n",
       "\n",
       "  formula_anonymous chemsys  ...  weighted_surface_energy_EV_PER_ANG2  \\\n",
       "0                 A      Si  ...                                  NaN   \n",
       "1                 A      Ti  ...                                  NaN   \n",
       "2                 A       C  ...                                  NaN   \n",
       "3                 A      Zn  ...                                  NaN   \n",
       "4                 A      Si  ...                                  NaN   \n",
       "\n",
       "   weighted_surface_energy  weighted_work_function surface_anisotropy  \\\n",
       "0                      NaN                     NaN                NaN   \n",
       "1                      NaN                     NaN                NaN   \n",
       "2                      NaN                     NaN                NaN   \n",
       "3                      NaN                     NaN                NaN   \n",
       "4                      NaN                     NaN                NaN   \n",
       "\n",
       "  shape_factor has_reconstructed  possible_species  \\\n",
       "0          NaN               NaN                []   \n",
       "1          NaN               NaN                []   \n",
       "2          NaN               NaN                []   \n",
       "3          NaN               NaN                []   \n",
       "4          NaN               NaN                []   \n",
       "\n",
       "                                           has_props theoretical database_IDs  \n",
       "0  {'materials': True, 'thermo': True, 'xas': Tru...        True           {}  \n",
       "1  {'materials': True, 'thermo': True, 'xas': Fal...        True           {}  \n",
       "2  {'materials': True, 'thermo': True, 'xas': Fal...        True           {}  \n",
       "3  {'materials': True, 'thermo': True, 'xas': Fal...        True           {}  \n",
       "4  {'materials': True, 'thermo': True, 'xas': Fal...        True           {}  \n",
       "\n",
       "[5 rows x 70 columns]"
      ]
     },
     "execution_count": 4,
     "metadata": {},
     "output_type": "execute_result"
    }
   ],
   "source": [
    "df.head()"
   ]
  },
  {
   "cell_type": "code",
   "execution_count": 5,
   "metadata": {},
   "outputs": [
    {
     "name": "stdout",
     "output_type": "stream",
     "text": [
      "_id                                             False\n",
      "builder_meta                                    False\n",
      "nsites                                          False\n",
      "elements                                        False\n",
      "nelements                                       False\n",
      "composition                                     False\n",
      "composition_reduced                             False\n",
      "formula_pretty                                  False\n",
      "formula_anonymous                               False\n",
      "chemsys                                         False\n",
      "volume                                          False\n",
      "density                                         False\n",
      "density_atomic                                  False\n",
      "symmetry                                        False\n",
      "property_name                                   False\n",
      "material_id                                     False\n",
      "deprecated                                      False\n",
      "deprecation_reasons                             False\n",
      "last_updated                                    False\n",
      "origins                                         False\n",
      "warnings                                        False\n",
      "structure                                       False\n",
      "task_ids                                        False\n",
      "uncorrected_energy_per_atom                     False\n",
      "energy_per_atom                                 False\n",
      "formation_energy_per_atom                       False\n",
      "energy_above_hull                               False\n",
      "is_stable                                       False\n",
      "equilibrium_reaction_energy_per_atom            False\n",
      "decomposes_to                                   False\n",
      "xas                                             False\n",
      "grain_boundaries                                False\n",
      "band_gap                                        False\n",
      "cbm                                             False\n",
      "vbm                                             False\n",
      "efermi                                          False\n",
      "is_gap_direct                                   False\n",
      "is_metal                                        False\n",
      "es_source_calc_id                                True\n",
      "bandstructure                                   False\n",
      "dos                                             False\n",
      "dos_energy_up                                    True\n",
      "dos_energy_down                                  True\n",
      "is_magnetic                                     False\n",
      "ordering                                        False\n",
      "total_magnetization                             False\n",
      "total_magnetization_normalized_vol              False\n",
      "total_magnetization_normalized_formula_units    False\n",
      "num_magnetic_sites                              False\n",
      "num_unique_magnetic_sites                       False\n",
      "types_of_magnetic_species                       False\n",
      "bulk_modulus                                    False\n",
      "shear_modulus                                   False\n",
      "universal_anisotropy                            False\n",
      "homogeneous_poisson                             False\n",
      "e_total                                         False\n",
      "e_ionic                                         False\n",
      "e_electronic                                    False\n",
      "n                                               False\n",
      "e_ij_max                                        False\n",
      "weighted_surface_energy_EV_PER_ANG2             False\n",
      "weighted_surface_energy                         False\n",
      "weighted_work_function                          False\n",
      "surface_anisotropy                              False\n",
      "shape_factor                                    False\n",
      "has_reconstructed                               False\n",
      "possible_species                                False\n",
      "has_props                                       False\n",
      "theoretical                                     False\n",
      "database_IDs                                    False\n",
      "dtype: bool\n"
     ]
    }
   ],
   "source": [
    "duplicated_columns = df.T.duplicated()\n",
    "\n",
    "pd.options.display.max_rows = 100\n",
    "\n",
    "print(duplicated_columns)\n"
   ]
  },
  {
   "cell_type": "code",
   "execution_count": 6,
   "metadata": {},
   "outputs": [
    {
     "name": "stdout",
     "output_type": "stream",
     "text": [
      "Index(['es_source_calc_id', 'dos_energy_up', 'dos_energy_down'], dtype='object')\n"
     ]
    }
   ],
   "source": [
    "duplicated_column_names = df.columns[duplicated_columns]\n",
    "\n",
    "print(duplicated_column_names)"
   ]
  },
  {
   "cell_type": "code",
   "execution_count": 7,
   "metadata": {},
   "outputs": [
    {
     "data": {
      "text/plain": [
       "(67, 155361)"
      ]
     },
     "execution_count": 7,
     "metadata": {},
     "output_type": "execute_result"
    }
   ],
   "source": [
    "#Drop duplicated columns with the Transpose\n",
    "no_duplicates = df.T.drop_duplicates()\n",
    "no_duplicates.shape"
   ]
  },
  {
   "cell_type": "code",
   "execution_count": 8,
   "metadata": {},
   "outputs": [
    {
     "data": {
      "text/plain": [
       "(155361, 67)"
      ]
     },
     "execution_count": 8,
     "metadata": {},
     "output_type": "execute_result"
    }
   ],
   "source": [
    "no_duplicates.T.shape"
   ]
  },
  {
   "cell_type": "code",
   "execution_count": 10,
   "metadata": {},
   "outputs": [],
   "source": [
    "no_duplicates.T.to_csv('../dataset/no_db_labels.csv', index=False)"
   ]
  }
 ],
 "metadata": {
  "kernelspec": {
   "display_name": "n",
   "language": "python",
   "name": "python3"
  },
  "language_info": {
   "codemirror_mode": {
    "name": "ipython",
    "version": 3
   },
   "file_extension": ".py",
   "mimetype": "text/x-python",
   "name": "python",
   "nbconvert_exporter": "python",
   "pygments_lexer": "ipython3",
   "version": "3.12.4"
  }
 },
 "nbformat": 4,
 "nbformat_minor": 2
}
