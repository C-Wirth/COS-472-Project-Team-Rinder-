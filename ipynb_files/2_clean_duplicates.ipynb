{
 "cells": [
  {
   "cell_type": "code",
   "execution_count": 7,
   "metadata": {},
   "outputs": [
    {
     "name": "stderr",
     "output_type": "stream",
     "text": [
      "/var/folders/xk/fhgbj8qj60n54b05mpfnck0w0000gn/T/ipykernel_92203/385871469.py:6: DtypeWarning: Columns (31,36,37,65) have mixed types. Specify dtype option on import or set low_memory=False.\n",
      "  df = pd.read_csv(\"../materials_summary.csv\")\n"
     ]
    }
   ],
   "source": [
    "#Skip this file if you already have the data\n",
    "\n",
    "#This file attempts duplicates\n",
    "\n",
    "\n",
    "import pandas as pd\n",
    "import matplotlib.pyplot as plt\n",
    "import numpy as np\n",
    "\n",
    "df = pd.read_csv(\"../materials_summary.csv\")\n"
   ]
  },
  {
   "cell_type": "code",
   "execution_count": 8,
   "metadata": {},
   "outputs": [
    {
     "data": {
      "text/plain": [
       "(155361, 70)"
      ]
     },
     "execution_count": 8,
     "metadata": {},
     "output_type": "execute_result"
    }
   ],
   "source": [
    "df.shape"
   ]
  },
  {
   "cell_type": "code",
   "execution_count": 9,
   "metadata": {},
   "outputs": [
    {
     "data": {
      "text/plain": [
       "Index(['_id', 'builder_meta', 'nsites', 'elements', 'nelements', 'composition',\n",
       "       'composition_reduced', 'formula_pretty', 'formula_anonymous', 'chemsys',\n",
       "       'volume', 'density', 'density_atomic', 'symmetry', 'property_name',\n",
       "       'material_id', 'deprecated', 'deprecation_reasons', 'last_updated',\n",
       "       'origins', 'warnings', 'structure', 'task_ids',\n",
       "       'uncorrected_energy_per_atom', 'energy_per_atom',\n",
       "       'formation_energy_per_atom', 'energy_above_hull', 'is_stable',\n",
       "       'equilibrium_reaction_energy_per_atom', 'decomposes_to', 'xas',\n",
       "       'grain_boundaries', 'band_gap', 'cbm', 'vbm', 'efermi', 'is_gap_direct',\n",
       "       'is_metal', 'es_source_calc_id', 'bandstructure', 'dos',\n",
       "       'dos_energy_up', 'dos_energy_down', 'is_magnetic', 'ordering',\n",
       "       'total_magnetization', 'total_magnetization_normalized_vol',\n",
       "       'total_magnetization_normalized_formula_units', 'num_magnetic_sites',\n",
       "       'num_unique_magnetic_sites', 'types_of_magnetic_species',\n",
       "       'bulk_modulus', 'shear_modulus', 'universal_anisotropy',\n",
       "       'homogeneous_poisson', 'e_total', 'e_ionic', 'e_electronic', 'n',\n",
       "       'e_ij_max', 'weighted_surface_energy_EV_PER_ANG2',\n",
       "       'weighted_surface_energy', 'weighted_work_function',\n",
       "       'surface_anisotropy', 'shape_factor', 'has_reconstructed',\n",
       "       'possible_species', 'has_props', 'theoretical', 'database_IDs'],\n",
       "      dtype='object')"
      ]
     },
     "execution_count": 9,
     "metadata": {},
     "output_type": "execute_result"
    }
   ],
   "source": [
    "df.columns"
   ]
  },
  {
   "cell_type": "code",
   "execution_count": 10,
   "metadata": {},
   "outputs": [
    {
     "data": {
      "text/html": [
       "<div>\n",
       "<style scoped>\n",
       "    .dataframe tbody tr th:only-of-type {\n",
       "        vertical-align: middle;\n",
       "    }\n",
       "\n",
       "    .dataframe tbody tr th {\n",
       "        vertical-align: top;\n",
       "    }\n",
       "\n",
       "    .dataframe thead th {\n",
       "        text-align: right;\n",
       "    }\n",
       "</style>\n",
       "<table border=\"1\" class=\"dataframe\">\n",
       "  <thead>\n",
       "    <tr style=\"text-align: right;\">\n",
       "      <th></th>\n",
       "      <th>_id</th>\n",
       "      <th>builder_meta</th>\n",
       "      <th>nsites</th>\n",
       "      <th>elements</th>\n",
       "      <th>nelements</th>\n",
       "      <th>composition</th>\n",
       "      <th>composition_reduced</th>\n",
       "      <th>formula_pretty</th>\n",
       "      <th>formula_anonymous</th>\n",
       "      <th>chemsys</th>\n",
       "      <th>...</th>\n",
       "      <th>weighted_surface_energy_EV_PER_ANG2</th>\n",
       "      <th>weighted_surface_energy</th>\n",
       "      <th>weighted_work_function</th>\n",
       "      <th>surface_anisotropy</th>\n",
       "      <th>shape_factor</th>\n",
       "      <th>has_reconstructed</th>\n",
       "      <th>possible_species</th>\n",
       "      <th>has_props</th>\n",
       "      <th>theoretical</th>\n",
       "      <th>database_IDs</th>\n",
       "    </tr>\n",
       "  </thead>\n",
       "  <tbody>\n",
       "    <tr>\n",
       "      <th>0</th>\n",
       "      <td>654abec83e1d94017b671486</td>\n",
       "      <td>{'emmet_version': '0.72.13', 'pymatgen_version...</td>\n",
       "      <td>1</td>\n",
       "      <td>['O']</td>\n",
       "      <td>1</td>\n",
       "      <td>{'O': 1.0}</td>\n",
       "      <td>{'O': 2.0}</td>\n",
       "      <td>O2</td>\n",
       "      <td>A</td>\n",
       "      <td>O</td>\n",
       "      <td>...</td>\n",
       "      <td>NaN</td>\n",
       "      <td>NaN</td>\n",
       "      <td>NaN</td>\n",
       "      <td>NaN</td>\n",
       "      <td>NaN</td>\n",
       "      <td>NaN</td>\n",
       "      <td>[]</td>\n",
       "      <td>{'materials': True, 'thermo': True, 'xas': Fal...</td>\n",
       "      <td>False</td>\n",
       "      <td>{'icsd': ['icsd-99593']}</td>\n",
       "    </tr>\n",
       "    <tr>\n",
       "      <th>1</th>\n",
       "      <td>654ac0403e1d94017b738f39</td>\n",
       "      <td>{'emmet_version': '0.72.13', 'pymatgen_version...</td>\n",
       "      <td>25</td>\n",
       "      <td>['W']</td>\n",
       "      <td>1</td>\n",
       "      <td>{'W': 25.0}</td>\n",
       "      <td>{'W': 1.0}</td>\n",
       "      <td>W</td>\n",
       "      <td>A</td>\n",
       "      <td>W</td>\n",
       "      <td>...</td>\n",
       "      <td>NaN</td>\n",
       "      <td>NaN</td>\n",
       "      <td>NaN</td>\n",
       "      <td>NaN</td>\n",
       "      <td>NaN</td>\n",
       "      <td>NaN</td>\n",
       "      <td>[]</td>\n",
       "      <td>{'materials': True, 'thermo': True, 'xas': Tru...</td>\n",
       "      <td>False</td>\n",
       "      <td>{'icsd': ['icsd-77709']}</td>\n",
       "    </tr>\n",
       "    <tr>\n",
       "      <th>2</th>\n",
       "      <td>654ac0453e1d94017b73bd46</td>\n",
       "      <td>{'emmet_version': '0.72.13', 'pymatgen_version...</td>\n",
       "      <td>8</td>\n",
       "      <td>['C']</td>\n",
       "      <td>1</td>\n",
       "      <td>{'C': 8.0}</td>\n",
       "      <td>{'C': 1.0}</td>\n",
       "      <td>C</td>\n",
       "      <td>A</td>\n",
       "      <td>C</td>\n",
       "      <td>...</td>\n",
       "      <td>NaN</td>\n",
       "      <td>NaN</td>\n",
       "      <td>NaN</td>\n",
       "      <td>NaN</td>\n",
       "      <td>NaN</td>\n",
       "      <td>NaN</td>\n",
       "      <td>[]</td>\n",
       "      <td>{'materials': True, 'thermo': True, 'xas': Fal...</td>\n",
       "      <td>True</td>\n",
       "      <td>{}</td>\n",
       "    </tr>\n",
       "    <tr>\n",
       "      <th>3</th>\n",
       "      <td>654ac1833e1d94017b799d34</td>\n",
       "      <td>{'emmet_version': '0.72.13', 'pymatgen_version...</td>\n",
       "      <td>1</td>\n",
       "      <td>['Cu']</td>\n",
       "      <td>1</td>\n",
       "      <td>{'Cu': 1.0}</td>\n",
       "      <td>{'Cu': 1.0}</td>\n",
       "      <td>Cu</td>\n",
       "      <td>A</td>\n",
       "      <td>Cu</td>\n",
       "      <td>...</td>\n",
       "      <td>NaN</td>\n",
       "      <td>NaN</td>\n",
       "      <td>NaN</td>\n",
       "      <td>NaN</td>\n",
       "      <td>NaN</td>\n",
       "      <td>NaN</td>\n",
       "      <td>[]</td>\n",
       "      <td>{'materials': True, 'thermo': True, 'xas': Tru...</td>\n",
       "      <td>False</td>\n",
       "      <td>{'icsd': ['icsd-150682']}</td>\n",
       "    </tr>\n",
       "    <tr>\n",
       "      <th>4</th>\n",
       "      <td>654ac1863e1d94017b79ada2</td>\n",
       "      <td>{'emmet_version': '0.72.13', 'pymatgen_version...</td>\n",
       "      <td>20</td>\n",
       "      <td>['W']</td>\n",
       "      <td>1</td>\n",
       "      <td>{'W': 20.0}</td>\n",
       "      <td>{'W': 1.0}</td>\n",
       "      <td>W</td>\n",
       "      <td>A</td>\n",
       "      <td>W</td>\n",
       "      <td>...</td>\n",
       "      <td>NaN</td>\n",
       "      <td>NaN</td>\n",
       "      <td>NaN</td>\n",
       "      <td>NaN</td>\n",
       "      <td>NaN</td>\n",
       "      <td>NaN</td>\n",
       "      <td>[]</td>\n",
       "      <td>{'materials': True, 'thermo': True, 'xas': Tru...</td>\n",
       "      <td>False</td>\n",
       "      <td>{'icsd': ['icsd-27705']}</td>\n",
       "    </tr>\n",
       "  </tbody>\n",
       "</table>\n",
       "<p>5 rows × 70 columns</p>\n",
       "</div>"
      ],
      "text/plain": [
       "                        _id  \\\n",
       "0  654abec83e1d94017b671486   \n",
       "1  654ac0403e1d94017b738f39   \n",
       "2  654ac0453e1d94017b73bd46   \n",
       "3  654ac1833e1d94017b799d34   \n",
       "4  654ac1863e1d94017b79ada2   \n",
       "\n",
       "                                        builder_meta  nsites elements  \\\n",
       "0  {'emmet_version': '0.72.13', 'pymatgen_version...       1    ['O']   \n",
       "1  {'emmet_version': '0.72.13', 'pymatgen_version...      25    ['W']   \n",
       "2  {'emmet_version': '0.72.13', 'pymatgen_version...       8    ['C']   \n",
       "3  {'emmet_version': '0.72.13', 'pymatgen_version...       1   ['Cu']   \n",
       "4  {'emmet_version': '0.72.13', 'pymatgen_version...      20    ['W']   \n",
       "\n",
       "   nelements  composition composition_reduced formula_pretty  \\\n",
       "0          1   {'O': 1.0}          {'O': 2.0}             O2   \n",
       "1          1  {'W': 25.0}          {'W': 1.0}              W   \n",
       "2          1   {'C': 8.0}          {'C': 1.0}              C   \n",
       "3          1  {'Cu': 1.0}         {'Cu': 1.0}             Cu   \n",
       "4          1  {'W': 20.0}          {'W': 1.0}              W   \n",
       "\n",
       "  formula_anonymous chemsys  ...  weighted_surface_energy_EV_PER_ANG2  \\\n",
       "0                 A       O  ...                                  NaN   \n",
       "1                 A       W  ...                                  NaN   \n",
       "2                 A       C  ...                                  NaN   \n",
       "3                 A      Cu  ...                                  NaN   \n",
       "4                 A       W  ...                                  NaN   \n",
       "\n",
       "   weighted_surface_energy  weighted_work_function surface_anisotropy  \\\n",
       "0                      NaN                     NaN                NaN   \n",
       "1                      NaN                     NaN                NaN   \n",
       "2                      NaN                     NaN                NaN   \n",
       "3                      NaN                     NaN                NaN   \n",
       "4                      NaN                     NaN                NaN   \n",
       "\n",
       "  shape_factor has_reconstructed  possible_species  \\\n",
       "0          NaN               NaN                []   \n",
       "1          NaN               NaN                []   \n",
       "2          NaN               NaN                []   \n",
       "3          NaN               NaN                []   \n",
       "4          NaN               NaN                []   \n",
       "\n",
       "                                           has_props theoretical  \\\n",
       "0  {'materials': True, 'thermo': True, 'xas': Fal...       False   \n",
       "1  {'materials': True, 'thermo': True, 'xas': Tru...       False   \n",
       "2  {'materials': True, 'thermo': True, 'xas': Fal...        True   \n",
       "3  {'materials': True, 'thermo': True, 'xas': Tru...       False   \n",
       "4  {'materials': True, 'thermo': True, 'xas': Tru...       False   \n",
       "\n",
       "                database_IDs  \n",
       "0   {'icsd': ['icsd-99593']}  \n",
       "1   {'icsd': ['icsd-77709']}  \n",
       "2                         {}  \n",
       "3  {'icsd': ['icsd-150682']}  \n",
       "4   {'icsd': ['icsd-27705']}  \n",
       "\n",
       "[5 rows x 70 columns]"
      ]
     },
     "execution_count": 10,
     "metadata": {},
     "output_type": "execute_result"
    }
   ],
   "source": [
    "df.head()"
   ]
  },
  {
   "cell_type": "code",
   "execution_count": 25,
   "metadata": {},
   "outputs": [
    {
     "name": "stdout",
     "output_type": "stream",
     "text": [
      "_id                                             False\n",
      "builder_meta                                    False\n",
      "nsites                                          False\n",
      "elements                                        False\n",
      "nelements                                       False\n",
      "composition                                     False\n",
      "composition_reduced                             False\n",
      "formula_pretty                                  False\n",
      "formula_anonymous                               False\n",
      "chemsys                                         False\n",
      "volume                                          False\n",
      "density                                         False\n",
      "density_atomic                                  False\n",
      "symmetry                                        False\n",
      "property_name                                   False\n",
      "material_id                                     False\n",
      "deprecated                                      False\n",
      "deprecation_reasons                             False\n",
      "last_updated                                    False\n",
      "origins                                         False\n",
      "warnings                                        False\n",
      "structure                                       False\n",
      "task_ids                                        False\n",
      "uncorrected_energy_per_atom                     False\n",
      "energy_per_atom                                 False\n",
      "formation_energy_per_atom                       False\n",
      "energy_above_hull                               False\n",
      "is_stable                                       False\n",
      "equilibrium_reaction_energy_per_atom            False\n",
      "decomposes_to                                   False\n",
      "xas                                             False\n",
      "grain_boundaries                                False\n",
      "band_gap                                        False\n",
      "cbm                                             False\n",
      "vbm                                             False\n",
      "efermi                                          False\n",
      "is_gap_direct                                   False\n",
      "is_metal                                        False\n",
      "es_source_calc_id                                True\n",
      "bandstructure                                   False\n",
      "dos                                             False\n",
      "dos_energy_up                                    True\n",
      "dos_energy_down                                  True\n",
      "is_magnetic                                     False\n",
      "ordering                                        False\n",
      "total_magnetization                             False\n",
      "total_magnetization_normalized_vol              False\n",
      "total_magnetization_normalized_formula_units    False\n",
      "num_magnetic_sites                              False\n",
      "num_unique_magnetic_sites                       False\n",
      "types_of_magnetic_species                       False\n",
      "bulk_modulus                                    False\n",
      "shear_modulus                                   False\n",
      "universal_anisotropy                            False\n",
      "homogeneous_poisson                             False\n",
      "e_total                                         False\n",
      "e_ionic                                         False\n",
      "e_electronic                                    False\n",
      "n                                               False\n",
      "e_ij_max                                        False\n",
      "weighted_surface_energy_EV_PER_ANG2             False\n",
      "weighted_surface_energy                         False\n",
      "weighted_work_function                          False\n",
      "surface_anisotropy                              False\n",
      "shape_factor                                    False\n",
      "has_reconstructed                               False\n",
      "possible_species                                False\n",
      "has_props                                       False\n",
      "theoretical                                     False\n",
      "database_IDs                                    False\n",
      "dtype: bool\n"
     ]
    }
   ],
   "source": [
    "duplicated_columns = df.T.duplicated()\n",
    "\n",
    "pd.options.display.max_rows = 100\n",
    "\n",
    "print(duplicated_columns)\n"
   ]
  },
  {
   "cell_type": "code",
   "execution_count": 27,
   "metadata": {},
   "outputs": [
    {
     "name": "stdout",
     "output_type": "stream",
     "text": [
      "Index(['es_source_calc_id', 'dos_energy_up', 'dos_energy_down'], dtype='object')\n"
     ]
    }
   ],
   "source": [
    "duplicated_column_names = df.columns[duplicated_columns]\n",
    "\n",
    "print(duplicated_column_names)"
   ]
  },
  {
   "cell_type": "code",
   "execution_count": 32,
   "metadata": {},
   "outputs": [
    {
     "data": {
      "text/plain": [
       "(67, 155361)"
      ]
     },
     "execution_count": 32,
     "metadata": {},
     "output_type": "execute_result"
    }
   ],
   "source": [
    "#Drop duplicated columns with the Transpose\n",
    "no_duplicates = df.T.drop_duplicates()\n",
    "no_duplicates.shape"
   ]
  },
  {
   "cell_type": "code",
   "execution_count": 34,
   "metadata": {},
   "outputs": [
    {
     "data": {
      "text/plain": [
       "(155361, 67)"
      ]
     },
     "execution_count": 34,
     "metadata": {},
     "output_type": "execute_result"
    }
   ],
   "source": [
    "no_duplicates.T.shape"
   ]
  },
  {
   "cell_type": "code",
   "execution_count": 37,
   "metadata": {},
   "outputs": [],
   "source": [
    "no_duplicates.T.to_csv('../ignore/no_db_labels.csv', index=False)"
   ]
  }
 ],
 "metadata": {
  "kernelspec": {
   "display_name": "n",
   "language": "python",
   "name": "python3"
  },
  "language_info": {
   "codemirror_mode": {
    "name": "ipython",
    "version": 3
   },
   "file_extension": ".py",
   "mimetype": "text/x-python",
   "name": "python",
   "nbconvert_exporter": "python",
   "pygments_lexer": "ipython3",
   "version": "3.12.4"
  }
 },
 "nbformat": 4,
 "nbformat_minor": 2
}
