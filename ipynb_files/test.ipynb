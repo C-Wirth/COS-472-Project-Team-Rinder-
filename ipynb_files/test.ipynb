{
 "cells": [
  {
   "cell_type": "code",
   "execution_count": 3,
   "metadata": {},
   "outputs": [
    {
     "name": "stderr",
     "output_type": "stream",
     "text": [
      "/var/folders/xk/fhgbj8qj60n54b05mpfnck0w0000gn/T/ipykernel_77070/3690897920.py:3: DtypeWarning: Columns (31,36,37,65) have mixed types. Specify dtype option on import or set low_memory=False.\n",
      "  test = pd.read_csv(\"../materials_summary.csv\")\n"
     ]
    },
    {
     "name": "stdout",
     "output_type": "stream",
     "text": [
      "(155361, 70)\n"
     ]
    }
   ],
   "source": [
    "import pandas as pd\n",
    "\n",
    "test = pd.read_csv(\"../materials_summary.csv\")\n",
    "\n",
    "print(test.shape)"
   ]
  },
  {
   "cell_type": "code",
   "execution_count": 5,
   "metadata": {},
   "outputs": [
    {
     "name": "stdout",
     "output_type": "stream",
     "text": [
      "Index(['_id', 'builder_meta', 'nsites', 'elements', 'nelements', 'composition',\n",
      "       'composition_reduced', 'formula_pretty', 'formula_anonymous', 'chemsys',\n",
      "       'volume', 'density', 'density_atomic', 'symmetry', 'property_name',\n",
      "       'material_id', 'deprecated', 'deprecation_reasons', 'last_updated',\n",
      "       'origins', 'warnings', 'structure', 'task_ids',\n",
      "       'uncorrected_energy_per_atom', 'energy_per_atom',\n",
      "       'formation_energy_per_atom', 'energy_above_hull', 'is_stable',\n",
      "       'equilibrium_reaction_energy_per_atom', 'decomposes_to', 'xas',\n",
      "       'grain_boundaries', 'band_gap', 'cbm', 'vbm', 'efermi', 'is_gap_direct',\n",
      "       'is_metal', 'es_source_calc_id', 'bandstructure', 'dos',\n",
      "       'dos_energy_up', 'dos_energy_down', 'is_magnetic', 'ordering',\n",
      "       'total_magnetization', 'total_magnetization_normalized_vol',\n",
      "       'total_magnetization_normalized_formula_units', 'num_magnetic_sites',\n",
      "       'num_unique_magnetic_sites', 'types_of_magnetic_species',\n",
      "       'bulk_modulus', 'shear_modulus', 'universal_anisotropy',\n",
      "       'homogeneous_poisson', 'e_total', 'e_ionic', 'e_electronic', 'n',\n",
      "       'e_ij_max', 'weighted_surface_energy_EV_PER_ANG2',\n",
      "       'weighted_surface_energy', 'weighted_work_function',\n",
      "       'surface_anisotropy', 'shape_factor', 'has_reconstructed',\n",
      "       'possible_species', 'has_props', 'theoretical', 'database_IDs'],\n",
      "      dtype='object')\n"
     ]
    }
   ],
   "source": [
    "print(test.columns)\n"
   ]
  },
  {
   "cell_type": "code",
   "execution_count": 17,
   "metadata": {},
   "outputs": [
    {
     "name": "stdout",
     "output_type": "stream",
     "text": [
      "_id                                           654abec83e1d94017b671486\n",
      "builder_meta         {'emmet_version': '0.72.13', 'pymatgen_version...\n",
      "nsites                                                               1\n",
      "elements                                                         ['O']\n",
      "nelements                                                            1\n",
      "                                           ...                        \n",
      "has_reconstructed                                                  NaN\n",
      "possible_species                                                    []\n",
      "has_props            {'materials': True, 'thermo': True, 'xas': Fal...\n",
      "theoretical                                                      False\n",
      "database_IDs                                  {'icsd': ['icsd-99593']}\n",
      "Name: 0, Length: 70, dtype: object\n"
     ]
    }
   ],
   "source": [
    "third_row = test.iloc[0]\n",
    "print(third_row)"
   ]
  }
 ],
 "metadata": {
  "kernelspec": {
   "display_name": "base",
   "language": "python",
   "name": "python3"
  },
  "language_info": {
   "codemirror_mode": {
    "name": "ipython",
    "version": 3
   },
   "file_extension": ".py",
   "mimetype": "text/x-python",
   "name": "python",
   "nbconvert_exporter": "python",
   "pygments_lexer": "ipython3",
   "version": "3.12.4"
  }
 },
 "nbformat": 4,
 "nbformat_minor": 2
}
