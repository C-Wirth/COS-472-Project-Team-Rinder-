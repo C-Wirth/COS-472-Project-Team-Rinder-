{
 "cells": [
  {
   "cell_type": "code",
   "execution_count": 29,
   "metadata": {},
   "outputs": [],
   "source": [
    "import pandas as pd\n",
    "import matplotlib.pyplot as plt\n",
    "import numpy as np\n",
    "import seaborn as sns"
   ]
  },
  {
   "cell_type": "code",
   "execution_count": 30,
   "metadata": {},
   "outputs": [
    {
     "name": "stderr",
     "output_type": "stream",
     "text": [
      "/var/folders/xk/fhgbj8qj60n54b05mpfnck0w0000gn/T/ipykernel_98240/3549041600.py:1: DtypeWarning: Columns (31,36,37,62) have mixed types. Specify dtype option on import or set low_memory=False.\n",
      "  df = pd.read_csv(\"../no_duplicates.csv\")\n"
     ]
    }
   ],
   "source": [
    "df = pd.read_csv(\"../no_duplicates.csv\")"
   ]
  },
  {
   "cell_type": "code",
   "execution_count": 31,
   "metadata": {},
   "outputs": [
    {
     "data": {
      "text/plain": [
       "(155361, 67)"
      ]
     },
     "execution_count": 31,
     "metadata": {},
     "output_type": "execute_result"
    }
   ],
   "source": [
    "df.shape"
   ]
  },
  {
   "cell_type": "code",
   "execution_count": 32,
   "metadata": {},
   "outputs": [
    {
     "data": {
      "text/plain": [
       "Index(['_id', 'builder_meta', 'nsites', 'elements', 'nelements', 'composition',\n",
       "       'composition_reduced', 'formula_pretty', 'formula_anonymous', 'chemsys',\n",
       "       'volume', 'density', 'density_atomic', 'symmetry', 'property_name',\n",
       "       'material_id', 'deprecated', 'deprecation_reasons', 'last_updated',\n",
       "       'origins', 'warnings', 'structure', 'task_ids',\n",
       "       'uncorrected_energy_per_atom', 'energy_per_atom',\n",
       "       'formation_energy_per_atom', 'energy_above_hull', 'is_stable',\n",
       "       'equilibrium_reaction_energy_per_atom', 'decomposes_to', 'xas',\n",
       "       'grain_boundaries', 'band_gap', 'cbm', 'vbm', 'efermi', 'is_gap_direct',\n",
       "       'is_metal', 'bandstructure', 'dos', 'is_magnetic', 'ordering',\n",
       "       'total_magnetization', 'total_magnetization_normalized_vol',\n",
       "       'total_magnetization_normalized_formula_units', 'num_magnetic_sites',\n",
       "       'num_unique_magnetic_sites', 'types_of_magnetic_species',\n",
       "       'bulk_modulus', 'shear_modulus', 'universal_anisotropy',\n",
       "       'homogeneous_poisson', 'e_total', 'e_ionic', 'e_electronic', 'n',\n",
       "       'e_ij_max', 'weighted_surface_energy_EV_PER_ANG2',\n",
       "       'weighted_surface_energy', 'weighted_work_function',\n",
       "       'surface_anisotropy', 'shape_factor', 'has_reconstructed',\n",
       "       'possible_species', 'has_props', 'theoretical', 'database_IDs'],\n",
       "      dtype='object')"
      ]
     },
     "execution_count": 32,
     "metadata": {},
     "output_type": "execute_result"
    }
   ],
   "source": [
    "df.columns"
   ]
  },
  {
   "cell_type": "code",
   "execution_count": 33,
   "metadata": {},
   "outputs": [],
   "source": [
    "df.drop(columns=['builder_meta'], inplace=True)\n"
   ]
  },
  {
   "cell_type": "code",
   "execution_count": 34,
   "metadata": {},
   "outputs": [],
   "source": [
    "df.drop(columns=['database_IDs'], inplace=True)"
   ]
  },
  {
   "cell_type": "code",
   "execution_count": 35,
   "metadata": {},
   "outputs": [
    {
     "data": {
      "text/html": [
       "<div>\n",
       "<style scoped>\n",
       "    .dataframe tbody tr th:only-of-type {\n",
       "        vertical-align: middle;\n",
       "    }\n",
       "\n",
       "    .dataframe tbody tr th {\n",
       "        vertical-align: top;\n",
       "    }\n",
       "\n",
       "    .dataframe thead th {\n",
       "        text-align: right;\n",
       "    }\n",
       "</style>\n",
       "<table border=\"1\" class=\"dataframe\">\n",
       "  <thead>\n",
       "    <tr style=\"text-align: right;\">\n",
       "      <th></th>\n",
       "      <th>_id</th>\n",
       "      <th>nsites</th>\n",
       "      <th>elements</th>\n",
       "      <th>nelements</th>\n",
       "      <th>composition</th>\n",
       "      <th>composition_reduced</th>\n",
       "      <th>formula_pretty</th>\n",
       "      <th>formula_anonymous</th>\n",
       "      <th>chemsys</th>\n",
       "      <th>volume</th>\n",
       "      <th>...</th>\n",
       "      <th>e_ij_max</th>\n",
       "      <th>weighted_surface_energy_EV_PER_ANG2</th>\n",
       "      <th>weighted_surface_energy</th>\n",
       "      <th>weighted_work_function</th>\n",
       "      <th>surface_anisotropy</th>\n",
       "      <th>shape_factor</th>\n",
       "      <th>has_reconstructed</th>\n",
       "      <th>possible_species</th>\n",
       "      <th>has_props</th>\n",
       "      <th>theoretical</th>\n",
       "    </tr>\n",
       "  </thead>\n",
       "  <tbody>\n",
       "    <tr>\n",
       "      <th>0</th>\n",
       "      <td>654abec83e1d94017b671486</td>\n",
       "      <td>1</td>\n",
       "      <td>['O']</td>\n",
       "      <td>1</td>\n",
       "      <td>{'O': 1.0}</td>\n",
       "      <td>{'O': 2.0}</td>\n",
       "      <td>O2</td>\n",
       "      <td>A</td>\n",
       "      <td>O</td>\n",
       "      <td>21.650678</td>\n",
       "      <td>...</td>\n",
       "      <td>NaN</td>\n",
       "      <td>NaN</td>\n",
       "      <td>NaN</td>\n",
       "      <td>NaN</td>\n",
       "      <td>NaN</td>\n",
       "      <td>NaN</td>\n",
       "      <td>NaN</td>\n",
       "      <td>[]</td>\n",
       "      <td>{'materials': True, 'thermo': True, 'xas': Fal...</td>\n",
       "      <td>False</td>\n",
       "    </tr>\n",
       "    <tr>\n",
       "      <th>1</th>\n",
       "      <td>654ac0403e1d94017b738f39</td>\n",
       "      <td>25</td>\n",
       "      <td>['W']</td>\n",
       "      <td>1</td>\n",
       "      <td>{'W': 25.0}</td>\n",
       "      <td>{'W': 1.0}</td>\n",
       "      <td>W</td>\n",
       "      <td>A</td>\n",
       "      <td>W</td>\n",
       "      <td>452.151027</td>\n",
       "      <td>...</td>\n",
       "      <td>NaN</td>\n",
       "      <td>NaN</td>\n",
       "      <td>NaN</td>\n",
       "      <td>NaN</td>\n",
       "      <td>NaN</td>\n",
       "      <td>NaN</td>\n",
       "      <td>NaN</td>\n",
       "      <td>[]</td>\n",
       "      <td>{'materials': True, 'thermo': True, 'xas': Tru...</td>\n",
       "      <td>False</td>\n",
       "    </tr>\n",
       "    <tr>\n",
       "      <th>2</th>\n",
       "      <td>654ac0453e1d94017b73bd46</td>\n",
       "      <td>8</td>\n",
       "      <td>['C']</td>\n",
       "      <td>1</td>\n",
       "      <td>{'C': 8.0}</td>\n",
       "      <td>{'C': 1.0}</td>\n",
       "      <td>C</td>\n",
       "      <td>A</td>\n",
       "      <td>C</td>\n",
       "      <td>115.841849</td>\n",
       "      <td>...</td>\n",
       "      <td>NaN</td>\n",
       "      <td>NaN</td>\n",
       "      <td>NaN</td>\n",
       "      <td>NaN</td>\n",
       "      <td>NaN</td>\n",
       "      <td>NaN</td>\n",
       "      <td>NaN</td>\n",
       "      <td>[]</td>\n",
       "      <td>{'materials': True, 'thermo': True, 'xas': Fal...</td>\n",
       "      <td>True</td>\n",
       "    </tr>\n",
       "    <tr>\n",
       "      <th>3</th>\n",
       "      <td>654ac1833e1d94017b799d34</td>\n",
       "      <td>1</td>\n",
       "      <td>['Cu']</td>\n",
       "      <td>1</td>\n",
       "      <td>{'Cu': 1.0}</td>\n",
       "      <td>{'Cu': 1.0}</td>\n",
       "      <td>Cu</td>\n",
       "      <td>A</td>\n",
       "      <td>Cu</td>\n",
       "      <td>563.081622</td>\n",
       "      <td>...</td>\n",
       "      <td>NaN</td>\n",
       "      <td>NaN</td>\n",
       "      <td>NaN</td>\n",
       "      <td>NaN</td>\n",
       "      <td>NaN</td>\n",
       "      <td>NaN</td>\n",
       "      <td>NaN</td>\n",
       "      <td>[]</td>\n",
       "      <td>{'materials': True, 'thermo': True, 'xas': Tru...</td>\n",
       "      <td>False</td>\n",
       "    </tr>\n",
       "    <tr>\n",
       "      <th>4</th>\n",
       "      <td>654ac1863e1d94017b79ada2</td>\n",
       "      <td>20</td>\n",
       "      <td>['W']</td>\n",
       "      <td>1</td>\n",
       "      <td>{'W': 20.0}</td>\n",
       "      <td>{'W': 1.0}</td>\n",
       "      <td>W</td>\n",
       "      <td>A</td>\n",
       "      <td>W</td>\n",
       "      <td>350.470784</td>\n",
       "      <td>...</td>\n",
       "      <td>NaN</td>\n",
       "      <td>NaN</td>\n",
       "      <td>NaN</td>\n",
       "      <td>NaN</td>\n",
       "      <td>NaN</td>\n",
       "      <td>NaN</td>\n",
       "      <td>NaN</td>\n",
       "      <td>[]</td>\n",
       "      <td>{'materials': True, 'thermo': True, 'xas': Tru...</td>\n",
       "      <td>False</td>\n",
       "    </tr>\n",
       "  </tbody>\n",
       "</table>\n",
       "<p>5 rows × 65 columns</p>\n",
       "</div>"
      ],
      "text/plain": [
       "                        _id  nsites elements  nelements  composition  \\\n",
       "0  654abec83e1d94017b671486       1    ['O']          1   {'O': 1.0}   \n",
       "1  654ac0403e1d94017b738f39      25    ['W']          1  {'W': 25.0}   \n",
       "2  654ac0453e1d94017b73bd46       8    ['C']          1   {'C': 8.0}   \n",
       "3  654ac1833e1d94017b799d34       1   ['Cu']          1  {'Cu': 1.0}   \n",
       "4  654ac1863e1d94017b79ada2      20    ['W']          1  {'W': 20.0}   \n",
       "\n",
       "  composition_reduced formula_pretty formula_anonymous chemsys      volume  \\\n",
       "0          {'O': 2.0}             O2                 A       O   21.650678   \n",
       "1          {'W': 1.0}              W                 A       W  452.151027   \n",
       "2          {'C': 1.0}              C                 A       C  115.841849   \n",
       "3         {'Cu': 1.0}             Cu                 A      Cu  563.081622   \n",
       "4          {'W': 1.0}              W                 A       W  350.470784   \n",
       "\n",
       "   ...  e_ij_max  weighted_surface_energy_EV_PER_ANG2 weighted_surface_energy  \\\n",
       "0  ...       NaN                                  NaN                     NaN   \n",
       "1  ...       NaN                                  NaN                     NaN   \n",
       "2  ...       NaN                                  NaN                     NaN   \n",
       "3  ...       NaN                                  NaN                     NaN   \n",
       "4  ...       NaN                                  NaN                     NaN   \n",
       "\n",
       "  weighted_work_function surface_anisotropy  shape_factor  has_reconstructed  \\\n",
       "0                    NaN                NaN           NaN                NaN   \n",
       "1                    NaN                NaN           NaN                NaN   \n",
       "2                    NaN                NaN           NaN                NaN   \n",
       "3                    NaN                NaN           NaN                NaN   \n",
       "4                    NaN                NaN           NaN                NaN   \n",
       "\n",
       "  possible_species                                          has_props  \\\n",
       "0               []  {'materials': True, 'thermo': True, 'xas': Fal...   \n",
       "1               []  {'materials': True, 'thermo': True, 'xas': Tru...   \n",
       "2               []  {'materials': True, 'thermo': True, 'xas': Fal...   \n",
       "3               []  {'materials': True, 'thermo': True, 'xas': Tru...   \n",
       "4               []  {'materials': True, 'thermo': True, 'xas': Tru...   \n",
       "\n",
       "  theoretical  \n",
       "0       False  \n",
       "1       False  \n",
       "2        True  \n",
       "3       False  \n",
       "4       False  \n",
       "\n",
       "[5 rows x 65 columns]"
      ]
     },
     "execution_count": 35,
     "metadata": {},
     "output_type": "execute_result"
    }
   ],
   "source": [
    "df.head()"
   ]
  },
  {
   "cell_type": "code",
   "execution_count": 36,
   "metadata": {},
   "outputs": [],
   "source": [
    "df.T.to_csv('../no_db_labels.csv', index=False)"
   ]
  }
 ],
 "metadata": {
  "kernelspec": {
   "display_name": "base",
   "language": "python",
   "name": "python3"
  },
  "language_info": {
   "codemirror_mode": {
    "name": "ipython",
    "version": 3
   },
   "file_extension": ".py",
   "mimetype": "text/x-python",
   "name": "python",
   "nbconvert_exporter": "python",
   "pygments_lexer": "ipython3",
   "version": "3.12.4"
  }
 },
 "nbformat": 4,
 "nbformat_minor": 2
}
