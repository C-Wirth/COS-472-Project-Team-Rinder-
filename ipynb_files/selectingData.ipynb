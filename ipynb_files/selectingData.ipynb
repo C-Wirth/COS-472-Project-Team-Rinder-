{
 "cells": [
  {
   "cell_type": "code",
   "execution_count": 3,
   "id": "4cf301e0-bd30-4530-84fa-b1d52ef7dda3",
   "metadata": {},
   "outputs": [
    {
     "name": "stdout",
     "output_type": "stream",
     "text": [
      "Requirement already satisfied: mp-api in c:\\users\\kingo\\miniconda3\\envs\\my_env\\lib\\site-packages (0.42.2)\n",
      "Requirement already satisfied: setuptools in c:\\users\\kingo\\miniconda3\\envs\\my_env\\lib\\site-packages (from mp-api) (72.1.0)\n",
      "Requirement already satisfied: msgpack in c:\\users\\kingo\\miniconda3\\envs\\my_env\\lib\\site-packages (from mp-api) (1.1.0)\n",
      "Requirement already satisfied: maggma>=0.57.1 in c:\\users\\kingo\\miniconda3\\envs\\my_env\\lib\\site-packages (from mp-api) (0.70.0)\n",
      "Requirement already satisfied: pymatgen!=2024.2.20,>=2022.3.7 in c:\\users\\kingo\\miniconda3\\envs\\my_env\\lib\\site-packages (from mp-api) (2024.10.3)\n",
      "Requirement already satisfied: typing-extensions>=3.7.4.1 in c:\\users\\kingo\\miniconda3\\envs\\my_env\\lib\\site-packages (from mp-api) (4.12.2)\n",
      "Requirement already satisfied: requests>=2.23.0 in c:\\users\\kingo\\miniconda3\\envs\\my_env\\lib\\site-packages (from mp-api) (2.32.3)\n",
      "Requirement already satisfied: monty>=2023.9.25 in c:\\users\\kingo\\miniconda3\\envs\\my_env\\lib\\site-packages (from mp-api) (2024.7.30)\n",
      "Requirement already satisfied: emmet-core>=0.78.0rc3 in c:\\users\\kingo\\miniconda3\\envs\\my_env\\lib\\site-packages (from mp-api) (0.84.3rc0)\n",
      "Requirement already satisfied: smart-open in c:\\users\\kingo\\miniconda3\\envs\\my_env\\lib\\site-packages (from mp-api) (7.0.5)\n",
      "Requirement already satisfied: numpy<2 in c:\\users\\kingo\\miniconda3\\envs\\my_env\\lib\\site-packages (from emmet-core>=0.78.0rc3->mp-api) (1.26.4)\n",
      "Requirement already satisfied: pydantic>=2.0 in c:\\users\\kingo\\miniconda3\\envs\\my_env\\lib\\site-packages (from emmet-core>=0.78.0rc3->mp-api) (2.9.2)\n",
      "Requirement already satisfied: pydantic-settings>=2.0 in c:\\users\\kingo\\miniconda3\\envs\\my_env\\lib\\site-packages (from emmet-core>=0.78.0rc3->mp-api) (2.5.2)\n",
      "Requirement already satisfied: pybtex~=0.24 in c:\\users\\kingo\\miniconda3\\envs\\my_env\\lib\\site-packages (from emmet-core>=0.78.0rc3->mp-api) (0.24.0)\n",
      "Requirement already satisfied: ruamel.yaml>=0.17 in c:\\users\\kingo\\miniconda3\\envs\\my_env\\lib\\site-packages (from maggma>=0.57.1->mp-api) (0.18.6)\n",
      "Requirement already satisfied: pymongo>=4.2.0 in c:\\users\\kingo\\miniconda3\\envs\\my_env\\lib\\site-packages (from maggma>=0.57.1->mp-api) (4.10.1)\n",
      "Requirement already satisfied: mongomock>=3.10.0 in c:\\users\\kingo\\miniconda3\\envs\\my_env\\lib\\site-packages (from maggma>=0.57.1->mp-api) (4.2.0.post1)\n",
      "Requirement already satisfied: pydash>=4.1.0 in c:\\users\\kingo\\miniconda3\\envs\\my_env\\lib\\site-packages (from maggma>=0.57.1->mp-api) (8.0.3)\n",
      "Requirement already satisfied: jsonschema>=3.1.1 in c:\\users\\kingo\\miniconda3\\envs\\my_env\\lib\\site-packages (from maggma>=0.57.1->mp-api) (4.23.0)\n",
      "Requirement already satisfied: tqdm>=4.19.6 in c:\\users\\kingo\\miniconda3\\envs\\my_env\\lib\\site-packages (from maggma>=0.57.1->mp-api) (4.66.5)\n",
      "Requirement already satisfied: pandas>=2.2 in c:\\users\\kingo\\miniconda3\\envs\\my_env\\lib\\site-packages (from maggma>=0.57.1->mp-api) (2.2.2)\n",
      "Requirement already satisfied: jsonlines>=4.0.0 in c:\\users\\kingo\\miniconda3\\envs\\my_env\\lib\\site-packages (from maggma>=0.57.1->mp-api) (4.0.0)\n",
      "Requirement already satisfied: aioitertools>=0.5.1 in c:\\users\\kingo\\miniconda3\\envs\\my_env\\lib\\site-packages (from maggma>=0.57.1->mp-api) (0.12.0)\n",
      "Requirement already satisfied: pyzmq>=25.1.1 in c:\\users\\kingo\\miniconda3\\envs\\my_env\\lib\\site-packages (from maggma>=0.57.1->mp-api) (25.1.2)\n",
      "Requirement already satisfied: dnspython>=1.16.0 in c:\\users\\kingo\\miniconda3\\envs\\my_env\\lib\\site-packages (from maggma>=0.57.1->mp-api) (2.7.0)\n",
      "Requirement already satisfied: sshtunnel>=0.1.5 in c:\\users\\kingo\\miniconda3\\envs\\my_env\\lib\\site-packages (from maggma>=0.57.1->mp-api) (0.4.0)\n",
      "Requirement already satisfied: orjson>=3.9.0 in c:\\users\\kingo\\miniconda3\\envs\\my_env\\lib\\site-packages (from maggma>=0.57.1->mp-api) (3.10.7)\n",
      "Requirement already satisfied: boto3>=1.20.41 in c:\\users\\kingo\\miniconda3\\envs\\my_env\\lib\\site-packages (from maggma>=0.57.1->mp-api) (1.35.38)\n",
      "Requirement already satisfied: python-dateutil>=2.8.2 in c:\\users\\kingo\\miniconda3\\envs\\my_env\\lib\\site-packages (from maggma>=0.57.1->mp-api) (2.9.0)\n",
      "Requirement already satisfied: joblib>=1 in c:\\users\\kingo\\miniconda3\\envs\\my_env\\lib\\site-packages (from pymatgen!=2024.2.20,>=2022.3.7->mp-api) (1.4.2)\n",
      "Requirement already satisfied: matplotlib>=3.8 in c:\\users\\kingo\\miniconda3\\envs\\my_env\\lib\\site-packages (from pymatgen!=2024.2.20,>=2022.3.7->mp-api) (3.9.2)\n",
      "Requirement already satisfied: networkx>=2.2 in c:\\users\\kingo\\miniconda3\\envs\\my_env\\lib\\site-packages (from pymatgen!=2024.2.20,>=2022.3.7->mp-api) (3.4)\n",
      "Requirement already satisfied: palettable>=3.3.3 in c:\\users\\kingo\\miniconda3\\envs\\my_env\\lib\\site-packages (from pymatgen!=2024.2.20,>=2022.3.7->mp-api) (3.3.3)\n",
      "Requirement already satisfied: plotly>=4.5.0 in c:\\users\\kingo\\miniconda3\\envs\\my_env\\lib\\site-packages (from pymatgen!=2024.2.20,>=2022.3.7->mp-api) (5.24.1)\n",
      "Requirement already satisfied: scipy>=1.13.0 in c:\\users\\kingo\\miniconda3\\envs\\my_env\\lib\\site-packages (from pymatgen!=2024.2.20,>=2022.3.7->mp-api) (1.14.1)\n",
      "Requirement already satisfied: spglib>=2.5.0 in c:\\users\\kingo\\miniconda3\\envs\\my_env\\lib\\site-packages (from pymatgen!=2024.2.20,>=2022.3.7->mp-api) (2.5.0)\n",
      "Requirement already satisfied: sympy>=1.2 in c:\\users\\kingo\\miniconda3\\envs\\my_env\\lib\\site-packages (from pymatgen!=2024.2.20,>=2022.3.7->mp-api) (1.13.3)\n",
      "Requirement already satisfied: tabulate>=0.9 in c:\\users\\kingo\\miniconda3\\envs\\my_env\\lib\\site-packages (from pymatgen!=2024.2.20,>=2022.3.7->mp-api) (0.9.0)\n",
      "Requirement already satisfied: uncertainties>=3.1.4 in c:\\users\\kingo\\miniconda3\\envs\\my_env\\lib\\site-packages (from pymatgen!=2024.2.20,>=2022.3.7->mp-api) (3.2.2)\n",
      "Requirement already satisfied: charset-normalizer<4,>=2 in c:\\users\\kingo\\miniconda3\\envs\\my_env\\lib\\site-packages (from requests>=2.23.0->mp-api) (3.3.2)\n",
      "Requirement already satisfied: idna<4,>=2.5 in c:\\users\\kingo\\miniconda3\\envs\\my_env\\lib\\site-packages (from requests>=2.23.0->mp-api) (3.8)\n",
      "Requirement already satisfied: urllib3<3,>=1.21.1 in c:\\users\\kingo\\miniconda3\\envs\\my_env\\lib\\site-packages (from requests>=2.23.0->mp-api) (2.2.2)\n",
      "Requirement already satisfied: certifi>=2017.4.17 in c:\\users\\kingo\\miniconda3\\envs\\my_env\\lib\\site-packages (from requests>=2.23.0->mp-api) (2024.8.30)\n",
      "Requirement already satisfied: wrapt in c:\\users\\kingo\\miniconda3\\envs\\my_env\\lib\\site-packages (from smart-open->mp-api) (1.16.0)\n",
      "Requirement already satisfied: botocore<1.36.0,>=1.35.38 in c:\\users\\kingo\\miniconda3\\envs\\my_env\\lib\\site-packages (from boto3>=1.20.41->maggma>=0.57.1->mp-api) (1.35.38)\n",
      "Requirement already satisfied: jmespath<2.0.0,>=0.7.1 in c:\\users\\kingo\\miniconda3\\envs\\my_env\\lib\\site-packages (from boto3>=1.20.41->maggma>=0.57.1->mp-api) (1.0.1)\n",
      "Requirement already satisfied: s3transfer<0.11.0,>=0.10.0 in c:\\users\\kingo\\miniconda3\\envs\\my_env\\lib\\site-packages (from boto3>=1.20.41->maggma>=0.57.1->mp-api) (0.10.3)\n",
      "Requirement already satisfied: attrs>=19.2.0 in c:\\users\\kingo\\miniconda3\\envs\\my_env\\lib\\site-packages (from jsonlines>=4.0.0->maggma>=0.57.1->mp-api) (24.2.0)\n",
      "Requirement already satisfied: jsonschema-specifications>=2023.03.6 in c:\\users\\kingo\\miniconda3\\envs\\my_env\\lib\\site-packages (from jsonschema>=3.1.1->maggma>=0.57.1->mp-api) (2023.12.1)\n",
      "Requirement already satisfied: referencing>=0.28.4 in c:\\users\\kingo\\miniconda3\\envs\\my_env\\lib\\site-packages (from jsonschema>=3.1.1->maggma>=0.57.1->mp-api) (0.35.1)\n",
      "Requirement already satisfied: rpds-py>=0.7.1 in c:\\users\\kingo\\miniconda3\\envs\\my_env\\lib\\site-packages (from jsonschema>=3.1.1->maggma>=0.57.1->mp-api) (0.10.6)\n",
      "Requirement already satisfied: contourpy>=1.0.1 in c:\\users\\kingo\\miniconda3\\envs\\my_env\\lib\\site-packages (from matplotlib>=3.8->pymatgen!=2024.2.20,>=2022.3.7->mp-api) (1.3.0)\n",
      "Requirement already satisfied: cycler>=0.10 in c:\\users\\kingo\\miniconda3\\envs\\my_env\\lib\\site-packages (from matplotlib>=3.8->pymatgen!=2024.2.20,>=2022.3.7->mp-api) (0.12.1)\n",
      "Requirement already satisfied: fonttools>=4.22.0 in c:\\users\\kingo\\miniconda3\\envs\\my_env\\lib\\site-packages (from matplotlib>=3.8->pymatgen!=2024.2.20,>=2022.3.7->mp-api) (4.54.1)\n",
      "Requirement already satisfied: kiwisolver>=1.3.1 in c:\\users\\kingo\\miniconda3\\envs\\my_env\\lib\\site-packages (from matplotlib>=3.8->pymatgen!=2024.2.20,>=2022.3.7->mp-api) (1.4.7)\n",
      "Requirement already satisfied: packaging>=20.0 in c:\\users\\kingo\\miniconda3\\envs\\my_env\\lib\\site-packages (from matplotlib>=3.8->pymatgen!=2024.2.20,>=2022.3.7->mp-api) (24.1)\n",
      "Requirement already satisfied: pillow>=8 in c:\\users\\kingo\\miniconda3\\envs\\my_env\\lib\\site-packages (from matplotlib>=3.8->pymatgen!=2024.2.20,>=2022.3.7->mp-api) (10.4.0)\n",
      "Requirement already satisfied: pyparsing>=2.3.1 in c:\\users\\kingo\\miniconda3\\envs\\my_env\\lib\\site-packages (from matplotlib>=3.8->pymatgen!=2024.2.20,>=2022.3.7->mp-api) (3.1.4)\n",
      "Requirement already satisfied: pytz in c:\\users\\kingo\\miniconda3\\envs\\my_env\\lib\\site-packages (from mongomock>=3.10.0->maggma>=0.57.1->mp-api) (2024.1)\n",
      "Requirement already satisfied: sentinels in c:\\users\\kingo\\miniconda3\\envs\\my_env\\lib\\site-packages (from mongomock>=3.10.0->maggma>=0.57.1->mp-api) (1.0.0)\n",
      "Requirement already satisfied: tzdata>=2022.7 in c:\\users\\kingo\\miniconda3\\envs\\my_env\\lib\\site-packages (from pandas>=2.2->maggma>=0.57.1->mp-api) (2024.1)\n",
      "Requirement already satisfied: tenacity>=6.2.0 in c:\\users\\kingo\\miniconda3\\envs\\my_env\\lib\\site-packages (from plotly>=4.5.0->pymatgen!=2024.2.20,>=2022.3.7->mp-api) (9.0.0)\n",
      "Requirement already satisfied: PyYAML>=3.01 in c:\\users\\kingo\\miniconda3\\envs\\my_env\\lib\\site-packages (from pybtex~=0.24->emmet-core>=0.78.0rc3->mp-api) (6.0.1)\n",
      "Requirement already satisfied: latexcodec>=1.0.4 in c:\\users\\kingo\\miniconda3\\envs\\my_env\\lib\\site-packages (from pybtex~=0.24->emmet-core>=0.78.0rc3->mp-api) (3.0.0)\n",
      "Requirement already satisfied: six in c:\\users\\kingo\\miniconda3\\envs\\my_env\\lib\\site-packages (from pybtex~=0.24->emmet-core>=0.78.0rc3->mp-api) (1.16.0)\n",
      "Requirement already satisfied: annotated-types>=0.6.0 in c:\\users\\kingo\\miniconda3\\envs\\my_env\\lib\\site-packages (from pydantic>=2.0->emmet-core>=0.78.0rc3->mp-api) (0.7.0)\n",
      "Requirement already satisfied: pydantic-core==2.23.4 in c:\\users\\kingo\\miniconda3\\envs\\my_env\\lib\\site-packages (from pydantic>=2.0->emmet-core>=0.78.0rc3->mp-api) (2.23.4)\n",
      "Requirement already satisfied: python-dotenv>=0.21.0 in c:\\users\\kingo\\miniconda3\\envs\\my_env\\lib\\site-packages (from pydantic-settings>=2.0->emmet-core>=0.78.0rc3->mp-api) (1.0.1)\n",
      "Requirement already satisfied: ruamel.yaml.clib>=0.2.7 in c:\\users\\kingo\\miniconda3\\envs\\my_env\\lib\\site-packages (from ruamel.yaml>=0.17->maggma>=0.57.1->mp-api) (0.2.8)\n",
      "Requirement already satisfied: paramiko>=2.7.2 in c:\\users\\kingo\\miniconda3\\envs\\my_env\\lib\\site-packages (from sshtunnel>=0.1.5->maggma>=0.57.1->mp-api) (3.5.0)\n",
      "Requirement already satisfied: mpmath<1.4,>=1.1.0 in c:\\users\\kingo\\miniconda3\\envs\\my_env\\lib\\site-packages (from sympy>=1.2->pymatgen!=2024.2.20,>=2022.3.7->mp-api) (1.3.0)\n",
      "Requirement already satisfied: colorama in c:\\users\\kingo\\miniconda3\\envs\\my_env\\lib\\site-packages (from tqdm>=4.19.6->maggma>=0.57.1->mp-api) (0.4.6)\n",
      "Requirement already satisfied: bcrypt>=3.2 in c:\\users\\kingo\\miniconda3\\envs\\my_env\\lib\\site-packages (from paramiko>=2.7.2->sshtunnel>=0.1.5->maggma>=0.57.1->mp-api) (4.2.0)\n",
      "Requirement already satisfied: cryptography>=3.3 in c:\\users\\kingo\\miniconda3\\envs\\my_env\\lib\\site-packages (from paramiko>=2.7.2->sshtunnel>=0.1.5->maggma>=0.57.1->mp-api) (43.0.1)\n",
      "Requirement already satisfied: pynacl>=1.5 in c:\\users\\kingo\\miniconda3\\envs\\my_env\\lib\\site-packages (from paramiko>=2.7.2->sshtunnel>=0.1.5->maggma>=0.57.1->mp-api) (1.5.0)\n",
      "Requirement already satisfied: cffi>=1.12 in c:\\users\\kingo\\miniconda3\\envs\\my_env\\lib\\site-packages (from cryptography>=3.3->paramiko>=2.7.2->sshtunnel>=0.1.5->maggma>=0.57.1->mp-api) (1.16.0)\n",
      "Requirement already satisfied: pycparser in c:\\users\\kingo\\miniconda3\\envs\\my_env\\lib\\site-packages (from cffi>=1.12->cryptography>=3.3->paramiko>=2.7.2->sshtunnel>=0.1.5->maggma>=0.57.1->mp-api) (2.22)\n",
      "Note: you may need to restart the kernel to use updated packages.\n"
     ]
    }
   ],
   "source": [
    "pip install mp-api"
   ]
  },
  {
   "cell_type": "code",
   "execution_count": 32,
   "id": "06233fb8-0c12-4b18-9816-fc47e5f36fa2",
   "metadata": {},
   "outputs": [
    {
     "name": "stderr",
     "output_type": "stream",
     "text": [
      "\n",
      "Retrieving MaterialsDoc documents: 100%|█████████████████████████████████████████████████████████| 1/1 [00:00<?, ?it/s]\u001b[A\n"
     ]
    },
    {
     "data": {
      "text/plain": [
       "Structure Summary\n",
       "Lattice\n",
       "    abc : 3.8492784033699095 3.8492794116013456 3.849278\n",
       " angles : 60.00001213094421 60.00000346645984 60.0000109754579\n",
       " volume : 40.32952684741405\n",
       "      A : 3.333573 0.0 1.924639\n",
       "      B : 1.111191 3.142924 1.924639\n",
       "      C : 0.0 0.0 3.849278\n",
       "    pbc : True True True\n",
       "PeriodicSite: Si (3.889, 2.75, 6.736) [0.875, 0.875, 0.875]\n",
       "PeriodicSite: Si (0.5556, 0.3929, 0.9623) [0.125, 0.125, 0.125]"
      ]
     },
     "execution_count": 32,
     "metadata": {},
     "output_type": "execute_result"
    }
   ],
   "source": [
    "from mp_api.client import MPRester\n",
    "# replace ********** with your own API Key you get from the material project website\n",
    "# I imagine it will work fine, but just in case\n",
    "with MPRester(\"**********\") as mpr:\n",
    "    docs = mpr.materials.search(\n",
    "        fields=[\"structure\"] # here is where you select your certian feild/feilds you want\n",
    "    )\n",
    "\n",
    "example_doc = docs[0] # saves the selected feild to an object. The attributes selected above are put into an array, so the first index is selected at [0]\n",
    "structures = example_doc.structure \n",
    "structures # prints structure summary"
   ]
  }
 ],
 "metadata": {
  "kernelspec": {
   "display_name": "Python 3 (ipykernel)",
   "language": "python",
   "name": "python3"
  },
  "language_info": {
   "codemirror_mode": {
    "name": "ipython",
    "version": 3
   },
   "file_extension": ".py",
   "mimetype": "text/x-python",
   "name": "python",
   "nbconvert_exporter": "python",
   "pygments_lexer": "ipython3",
   "version": "3.12.4"
  }
 },
 "nbformat": 4,
 "nbformat_minor": 5
}
