{
 "cells": [
  {
   "cell_type": "code",
   "execution_count": 34,
   "metadata": {},
   "outputs": [],
   "source": [
    "import pandas as pd\n"
   ]
  },
  {
   "cell_type": "code",
   "execution_count": 35,
   "metadata": {},
   "outputs": [
    {
     "name": "stdout",
     "output_type": "stream",
     "text": [
      "<class 'pandas.core.frame.DataFrame'>\n",
      "RangeIndex: 155361 entries, 0 to 155360\n",
      "Data columns (total 37 columns):\n",
      " #   Column                                        Non-Null Count   Dtype  \n",
      "---  ------                                        --------------   -----  \n",
      " 0   nsites                                        155361 non-null  int64  \n",
      " 1   nelements                                     155361 non-null  int64  \n",
      " 2   volume                                        155361 non-null  float64\n",
      " 3   density                                       155361 non-null  float64\n",
      " 4   density_atomic                                155361 non-null  float64\n",
      " 5   deprecated                                    155361 non-null  int64  \n",
      " 6   energy_per_atom                               152149 non-null  float64\n",
      " 7   formation_energy_per_atom                     152149 non-null  float64\n",
      " 8   energy_above_hull                             152149 non-null  float64\n",
      " 9   is_stable                                     155361 non-null  int64  \n",
      " 10  equilibrium_reaction_energy_per_atom          33731 non-null   float64\n",
      " 11  band_gap                                      155353 non-null  float64\n",
      " 12  cbm                                           91107 non-null   float64\n",
      " 13  vbm                                           91107 non-null   float64\n",
      " 14  efermi                                        155313 non-null  float64\n",
      " 15  total_magnetization                           154379 non-null  float64\n",
      " 16  total_magnetization_normalized_vol            154379 non-null  float64\n",
      " 17  total_magnetization_normalized_formula_units  154379 non-null  float64\n",
      " 18  num_magnetic_sites                            154379 non-null  float64\n",
      " 19  num_unique_magnetic_sites                     154379 non-null  float64\n",
      " 20  universal_anisotropy                          12259 non-null   float64\n",
      " 21  homogeneous_poisson                           12259 non-null   float64\n",
      " 22  theoretical                                   155361 non-null  int64  \n",
      " 23  thermo                                        155361 non-null  int64  \n",
      " 24  xas                                           155361 non-null  int64  \n",
      " 25  grain_boundaries                              155361 non-null  int64  \n",
      " 26  absorption                                    155361 non-null  int64  \n",
      " 27  bandstructure                                 155361 non-null  int64  \n",
      " 28  dos                                           155361 non-null  int64  \n",
      " 29  magnetism                                     155361 non-null  int64  \n",
      " 30  elasticity                                    155361 non-null  int64  \n",
      " 31  dielectric                                    155361 non-null  int64  \n",
      " 32  piezoelectric                                 155361 non-null  int64  \n",
      " 33  surface_properties                            155361 non-null  int64  \n",
      " 34  charge_density                                155361 non-null  int64  \n",
      " 35  eos                                           155361 non-null  int64  \n",
      " 36  substrates                                    155361 non-null  int64  \n",
      "dtypes: float64(18), int64(19)\n",
      "memory usage: 43.9 MB\n"
     ]
    }
   ],
   "source": [
    "numerical_df = pd.read_csv('../dataset/numerical_data.csv')\n",
    "\n",
    "numerical_df.info()"
   ]
  },
  {
   "cell_type": "code",
   "execution_count": 36,
   "metadata": {},
   "outputs": [
    {
     "data": {
      "text/plain": [
       "nsites                                               0\n",
       "nelements                                            0\n",
       "volume                                               0\n",
       "density                                              0\n",
       "density_atomic                                       0\n",
       "deprecated                                           0\n",
       "energy_per_atom                                   3212\n",
       "formation_energy_per_atom                         3212\n",
       "energy_above_hull                                 3212\n",
       "is_stable                                            0\n",
       "equilibrium_reaction_energy_per_atom            121630\n",
       "band_gap                                             8\n",
       "cbm                                              64254\n",
       "vbm                                              64254\n",
       "efermi                                              48\n",
       "total_magnetization                                982\n",
       "total_magnetization_normalized_vol                 982\n",
       "total_magnetization_normalized_formula_units       982\n",
       "num_magnetic_sites                                 982\n",
       "num_unique_magnetic_sites                          982\n",
       "universal_anisotropy                            143102\n",
       "homogeneous_poisson                             143102\n",
       "theoretical                                          0\n",
       "thermo                                               0\n",
       "xas                                                  0\n",
       "grain_boundaries                                     0\n",
       "absorption                                           0\n",
       "bandstructure                                        0\n",
       "dos                                                  0\n",
       "magnetism                                            0\n",
       "elasticity                                           0\n",
       "dielectric                                           0\n",
       "piezoelectric                                        0\n",
       "surface_properties                                   0\n",
       "charge_density                                       0\n",
       "eos                                                  0\n",
       "substrates                                           0\n",
       "dtype: int64"
      ]
     },
     "execution_count": 36,
     "metadata": {},
     "output_type": "execute_result"
    }
   ],
   "source": [
    "numerical_df.isnull().sum()"
   ]
  },
  {
   "cell_type": "code",
   "execution_count": 37,
   "metadata": {},
   "outputs": [
    {
     "data": {
      "text/plain": [
       "nsites                                               0\n",
       "nelements                                            0\n",
       "volume                                               0\n",
       "density                                              0\n",
       "density_atomic                                       0\n",
       "deprecated                                           0\n",
       "energy_per_atom                                      0\n",
       "formation_energy_per_atom                            0\n",
       "energy_above_hull                                    0\n",
       "is_stable                                            0\n",
       "equilibrium_reaction_energy_per_atom            121630\n",
       "band_gap                                             0\n",
       "cbm                                              64254\n",
       "vbm                                              64254\n",
       "efermi                                               0\n",
       "total_magnetization                                  0\n",
       "total_magnetization_normalized_vol                   0\n",
       "total_magnetization_normalized_formula_units         0\n",
       "num_magnetic_sites                                   0\n",
       "num_unique_magnetic_sites                            0\n",
       "universal_anisotropy                            143102\n",
       "homogeneous_poisson                             143102\n",
       "theoretical                                          0\n",
       "thermo                                               0\n",
       "xas                                                  0\n",
       "grain_boundaries                                     0\n",
       "absorption                                           0\n",
       "bandstructure                                        0\n",
       "dos                                                  0\n",
       "magnetism                                            0\n",
       "elasticity                                           0\n",
       "dielectric                                           0\n",
       "piezoelectric                                        0\n",
       "surface_properties                                   0\n",
       "charge_density                                       0\n",
       "eos                                                  0\n",
       "substrates                                           0\n",
       "dtype: int64"
      ]
     },
     "execution_count": 37,
     "metadata": {},
     "output_type": "execute_result"
    }
   ],
   "source": [
    "columns_to_fill = [\n",
    "    'total_magnetization',\n",
    "    'total_magnetization_normalized_vol',\n",
    "    'total_magnetization_normalized_formula_units',\n",
    "    'num_magnetic_sites',\n",
    "    'num_unique_magnetic_sites',\n",
    "    'efermi',\n",
    "    'band_gap',\n",
    "    'energy_per_atom',\n",
    "    'formation_energy_per_atom',\n",
    "    'energy_above_hull'\n",
    "    \n",
    "]\n",
    "for column in columns_to_fill:\n",
    "    if column in numerical_df.columns:\n",
    "        numerical_df[column] = numerical_df[column].fillna(numerical_df[column].mean())\n",
    "\n",
    "numerical_df.isnull().sum()"
   ]
  },
  {
   "cell_type": "code",
   "execution_count": 38,
   "metadata": {},
   "outputs": [
    {
     "data": {
      "text/plain": [
       "nsites                                              0\n",
       "nelements                                           0\n",
       "volume                                              0\n",
       "density                                             0\n",
       "density_atomic                                      0\n",
       "deprecated                                          0\n",
       "energy_per_atom                                     0\n",
       "formation_energy_per_atom                           0\n",
       "energy_above_hull                                   0\n",
       "is_stable                                           0\n",
       "band_gap                                            0\n",
       "cbm                                             64254\n",
       "vbm                                             64254\n",
       "efermi                                              0\n",
       "total_magnetization                                 0\n",
       "total_magnetization_normalized_vol                  0\n",
       "total_magnetization_normalized_formula_units        0\n",
       "num_magnetic_sites                                  0\n",
       "num_unique_magnetic_sites                           0\n",
       "theoretical                                         0\n",
       "thermo                                              0\n",
       "xas                                                 0\n",
       "grain_boundaries                                    0\n",
       "absorption                                          0\n",
       "bandstructure                                       0\n",
       "dos                                                 0\n",
       "magnetism                                           0\n",
       "elasticity                                          0\n",
       "dielectric                                          0\n",
       "piezoelectric                                       0\n",
       "surface_properties                                  0\n",
       "charge_density                                      0\n",
       "eos                                                 0\n",
       "substrates                                          0\n",
       "dtype: int64"
      ]
     },
     "execution_count": 38,
     "metadata": {},
     "output_type": "execute_result"
    }
   ],
   "source": [
    "numerical_df.drop(columns=[\n",
    "    'equilibrium_reaction_energy_per_atom', \n",
    "    'universal_anisotropy',\n",
    "    'homogeneous_poisson'], inplace=True)\n",
    "numerical_df.isnull().sum()"
   ]
  },
  {
   "cell_type": "code",
   "execution_count": 39,
   "metadata": {},
   "outputs": [],
   "source": [
    "numerical_df.to_csv('../dataset/numerical_data.csv', index=False)\n"
   ]
  }
 ],
 "metadata": {
  "kernelspec": {
   "display_name": "base",
   "language": "python",
   "name": "python3"
  },
  "language_info": {
   "codemirror_mode": {
    "name": "ipython",
    "version": 3
   },
   "file_extension": ".py",
   "mimetype": "text/x-python",
   "name": "python",
   "nbconvert_exporter": "python",
   "pygments_lexer": "ipython3",
   "version": "3.12.2"
  }
 },
 "nbformat": 4,
 "nbformat_minor": 2
}
