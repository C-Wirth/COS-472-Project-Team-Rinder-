{
 "cells": [
  {
   "cell_type": "code",
   "execution_count": 25,
   "metadata": {},
   "outputs": [],
   "source": [
    "import pandas as pd\n",
    "import numpy as np"
   ]
  },
  {
   "cell_type": "code",
   "execution_count": 26,
   "metadata": {},
   "outputs": [
    {
     "name": "stderr",
     "output_type": "stream",
     "text": [
      "/var/folders/xk/fhgbj8qj60n54b05mpfnck0w0000gn/T/ipykernel_11012/1408933992.py:1: DtypeWarning: Columns (4,5) have mixed types. Specify dtype option on import or set low_memory=False.\n",
      "  categorical_df = pd.read_csv('../dataset/categorical_data.csv')\n"
     ]
    },
    {
     "name": "stdout",
     "output_type": "stream",
     "text": [
      "<class 'pandas.core.frame.DataFrame'>\n",
      "RangeIndex: 155361 entries, 0 to 155360\n",
      "Data columns (total 11 columns):\n",
      " #   Column         Non-Null Count   Dtype \n",
      "---  ------         --------------   ----- \n",
      " 0   symmetry       155361 non-null  object\n",
      " 1   structure      155361 non-null  object\n",
      " 2   decomposes_to  118418 non-null  object\n",
      " 3   xas            60920 non-null   object\n",
      " 4   is_gap_direct  155353 non-null  object\n",
      " 5   is_metal       155353 non-null  object\n",
      " 6   bandstructure  71727 non-null   object\n",
      " 7   dos            89547 non-null   object\n",
      " 8   ordering       154379 non-null  object\n",
      " 9   bulk_modulus   12259 non-null   object\n",
      " 10  shear_modulus  12259 non-null   object\n",
      "dtypes: object(11)\n",
      "memory usage: 13.0+ MB\n"
     ]
    }
   ],
   "source": [
    "categorical_df = pd.read_csv('../dataset/categorical_data.csv')\n",
    "numerical_df = pd.read_csv('../dataset/numerical_data.csv')\n",
    "\n",
    "categorical_df.info()"
   ]
  },
  {
   "cell_type": "code",
   "execution_count": 27,
   "metadata": {},
   "outputs": [
    {
     "name": "stdout",
     "output_type": "stream",
     "text": [
      "<class 'pandas.core.frame.DataFrame'>\n",
      "RangeIndex: 155361 entries, 0 to 155360\n",
      "Data columns (total 40 columns):\n",
      " #   Column                                        Non-Null Count   Dtype  \n",
      "---  ------                                        --------------   -----  \n",
      " 0   nsites                                        155361 non-null  int64  \n",
      " 1   nelements                                     155361 non-null  int64  \n",
      " 2   volume                                        155361 non-null  float64\n",
      " 3   density                                       155361 non-null  float64\n",
      " 4   density_atomic                                155361 non-null  float64\n",
      " 5   deprecated                                    155361 non-null  int64  \n",
      " 6   energy_per_atom                               155361 non-null  float64\n",
      " 7   formation_energy_per_atom                     155361 non-null  float64\n",
      " 8   energy_above_hull                             155361 non-null  float64\n",
      " 9   is_stable                                     155361 non-null  int64  \n",
      " 10  band_gap                                      155361 non-null  float64\n",
      " 11  cbm                                           91107 non-null   float64\n",
      " 12  vbm                                           91107 non-null   float64\n",
      " 13  efermi                                        155361 non-null  float64\n",
      " 14  total_magnetization                           155361 non-null  float64\n",
      " 15  total_magnetization_normalized_vol            155361 non-null  float64\n",
      " 16  total_magnetization_normalized_formula_units  155361 non-null  float64\n",
      " 17  num_magnetic_sites                            155361 non-null  float64\n",
      " 18  num_unique_magnetic_sites                     155361 non-null  float64\n",
      " 19  theoretical                                   155361 non-null  int64  \n",
      " 20  thermo                                        155361 non-null  int64  \n",
      " 21  xas                                           155361 non-null  int64  \n",
      " 22  grain_boundaries                              155361 non-null  int64  \n",
      " 23  absorption                                    155361 non-null  int64  \n",
      " 24  bandstructure                                 155361 non-null  int64  \n",
      " 25  dos                                           155361 non-null  int64  \n",
      " 26  magnetism                                     155361 non-null  int64  \n",
      " 27  elasticity                                    155361 non-null  int64  \n",
      " 28  dielectric                                    155361 non-null  int64  \n",
      " 29  piezoelectric                                 155361 non-null  int64  \n",
      " 30  surface_properties                            155361 non-null  int64  \n",
      " 31  charge_density                                155361 non-null  int64  \n",
      " 32  eos                                           155361 non-null  int64  \n",
      " 33  substrates                                    155361 non-null  int64  \n",
      " 34  crystal_sys_Hexagonal                         155361 non-null  int64  \n",
      " 35  crystal_sys_Monoclinic                        155361 non-null  int64  \n",
      " 36  crystal_sys_Orthorhombic                      155361 non-null  int64  \n",
      " 37  crystal_sys_Tetragonal                        155361 non-null  int64  \n",
      " 38  crystal_sys_Triclinic                         155361 non-null  int64  \n",
      " 39  crystal_sys_Trigonal                          155361 non-null  int64  \n",
      "dtypes: float64(15), int64(25)\n",
      "memory usage: 47.4 MB\n"
     ]
    }
   ],
   "source": [
    "#begin work on symmetry attribute\n",
    "import ast\n",
    "\n",
    "crystal_sytems_df = []\n",
    "\n",
    "for row in categorical_df.itertuples():\n",
    "   \n",
    "    symmetry_dict = ast.literal_eval(row.symmetry) \n",
    "    crystal_sytems_df.append(symmetry_dict['crystal_system'])\n",
    "\n",
    "crystal_sytems_df = pd.get_dummies(\n",
    "    crystal_sytems_df, columns=['crystal_system'], \n",
    "                                    drop_first=True, prefix='crystal_sys')\n",
    "\n",
    "crystal_sytems_df = crystal_sytems_df.astype(int)\n",
    "categorical_df = categorical_df.drop('symmetry', axis=1)\n",
    "\n",
    "numerical_df = pd.concat([numerical_df, crystal_sytems_df], axis=1)\n",
    "numerical_df.info()"
   ]
  },
  {
   "cell_type": "code",
   "execution_count": 28,
   "metadata": {},
   "outputs": [],
   "source": [
    "# import ast\n",
    "\n",
    "# lattice_matrix_df = []\n",
    "\n",
    "# for row in categorical_df.itertuples(index=False):\n",
    "#     try:\n",
    "#         structure_dict = ast.literal_eval(row.structure)\n",
    "        \n",
    "#         if 'lattice' in structure_dict and 'matrix' in structure_dict['lattice']:\n",
    "#             lattice_matrix = structure_dict['lattice']['matrix']\n",
    "#             lattice_matrix_df.append(lattice_matrix)\n",
    "\n",
    "#     except (ValueError, SyntaxError) as e:\n",
    "#         lattice_matrix_df.append(\"none\")\n",
    "# lattice_matrix_df = pd.DataFrame(lattice_matrix_df)\n",
    "\n",
    "# print(lattice_matrix_df.head())"
   ]
  },
  {
   "cell_type": "code",
   "execution_count": 29,
   "metadata": {},
   "outputs": [],
   "source": [
    "# #Convert matrices to a single value using Frobeius norm:\n",
    "\n",
    "# def frobenius_norm(matrix_str):\n",
    "#     try:\n",
    "#         matrix = np.array(ast.literal_eval(matrix_str))\n",
    "#         return np.linalg.norm(matrix, 'fro')\n",
    "#     except (ValueError, SyntaxError):\n",
    "#         return None\n",
    "    \n",
    "# norms_df = []\n",
    "\n",
    "# for row in lattice_matrix_df.itertuples(index=False):\n",
    "#     matrix=row[0]\n",
    "#     norm = frobenius_norm(matrix)\n",
    "#     norms_df.append(norm)\n",
    "\n",
    "# norms_df = pd.DataFrame(norms_df)\n",
    "# print(norms_df)"
   ]
  },
  {
   "cell_type": "code",
   "execution_count": 30,
   "metadata": {},
   "outputs": [
    {
     "name": "stdout",
     "output_type": "stream",
     "text": [
      "<class 'pandas.core.frame.DataFrame'>\n",
      "RangeIndex: 155361 entries, 0 to 155360\n",
      "Data columns (total 40 columns):\n",
      " #   Column                                        Non-Null Count   Dtype  \n",
      "---  ------                                        --------------   -----  \n",
      " 0   nsites                                        155361 non-null  int64  \n",
      " 1   nelements                                     155361 non-null  int64  \n",
      " 2   volume                                        155361 non-null  float64\n",
      " 3   density                                       155361 non-null  float64\n",
      " 4   density_atomic                                155361 non-null  float64\n",
      " 5   deprecated                                    155361 non-null  int64  \n",
      " 6   energy_per_atom                               155361 non-null  float64\n",
      " 7   formation_energy_per_atom                     155361 non-null  float64\n",
      " 8   energy_above_hull                             155361 non-null  float64\n",
      " 9   is_stable                                     155361 non-null  int64  \n",
      " 10  band_gap                                      155361 non-null  float64\n",
      " 11  cbm                                           91107 non-null   float64\n",
      " 12  vbm                                           91107 non-null   float64\n",
      " 13  efermi                                        155361 non-null  float64\n",
      " 14  total_magnetization                           155361 non-null  float64\n",
      " 15  total_magnetization_normalized_vol            155361 non-null  float64\n",
      " 16  total_magnetization_normalized_formula_units  155361 non-null  float64\n",
      " 17  num_magnetic_sites                            155361 non-null  float64\n",
      " 18  num_unique_magnetic_sites                     155361 non-null  float64\n",
      " 19  theoretical                                   155361 non-null  int64  \n",
      " 20  thermo                                        155361 non-null  int64  \n",
      " 21  xas                                           155361 non-null  int64  \n",
      " 22  grain_boundaries                              155361 non-null  int64  \n",
      " 23  absorption                                    155361 non-null  int64  \n",
      " 24  bandstructure                                 155361 non-null  int64  \n",
      " 25  dos                                           155361 non-null  int64  \n",
      " 26  magnetism                                     155361 non-null  int64  \n",
      " 27  elasticity                                    155361 non-null  int64  \n",
      " 28  dielectric                                    155361 non-null  int64  \n",
      " 29  piezoelectric                                 155361 non-null  int64  \n",
      " 30  surface_properties                            155361 non-null  int64  \n",
      " 31  charge_density                                155361 non-null  int64  \n",
      " 32  eos                                           155361 non-null  int64  \n",
      " 33  substrates                                    155361 non-null  int64  \n",
      " 34  crystal_sys_Hexagonal                         155361 non-null  int64  \n",
      " 35  crystal_sys_Monoclinic                        155361 non-null  int64  \n",
      " 36  crystal_sys_Orthorhombic                      155361 non-null  int64  \n",
      " 37  crystal_sys_Tetragonal                        155361 non-null  int64  \n",
      " 38  crystal_sys_Triclinic                         155361 non-null  int64  \n",
      " 39  crystal_sys_Trigonal                          155361 non-null  int64  \n",
      "dtypes: float64(15), int64(25)\n",
      "memory usage: 47.4 MB\n"
     ]
    }
   ],
   "source": [
    "numerical_df.info()"
   ]
  },
  {
   "cell_type": "code",
   "execution_count": 31,
   "metadata": {},
   "outputs": [
    {
     "name": "stdout",
     "output_type": "stream",
     "text": [
      "<class 'pandas.core.frame.DataFrame'>\n",
      "RangeIndex: 155361 entries, 0 to 155360\n",
      "Data columns (total 8 columns):\n",
      " #   Column         Non-Null Count   Dtype \n",
      "---  ------         --------------   ----- \n",
      " 0   structure      155361 non-null  object\n",
      " 1   decomposes_to  118418 non-null  object\n",
      " 2   xas            60920 non-null   object\n",
      " 3   bandstructure  71727 non-null   object\n",
      " 4   dos            89547 non-null   object\n",
      " 5   ordering       154379 non-null  object\n",
      " 6   bulk_modulus   12259 non-null   object\n",
      " 7   shear_modulus  12259 non-null   object\n",
      "dtypes: object(8)\n",
      "memory usage: 9.5+ MB\n"
     ]
    }
   ],
   "source": [
    "categorical_df['is_metal'] = categorical_df['is_metal'].fillna(0).astype(int)\n",
    "categorical_df['is_gap_direct'] = categorical_df['is_gap_direct'].fillna(0).astype(int)\n",
    "\n",
    "numerical_df = pd.concat([numerical_df, categorical_df[['is_metal', 'is_gap_direct']]], axis=1)\n",
    "\n",
    "categorical_df = categorical_df.drop(columns=['is_metal', 'is_gap_direct'])\n",
    "\n",
    "categorical_df.info()\n"
   ]
  },
  {
   "cell_type": "code",
   "execution_count": 32,
   "metadata": {},
   "outputs": [
    {
     "name": "stdout",
     "output_type": "stream",
     "text": [
      "<class 'pandas.core.frame.DataFrame'>\n",
      "RangeIndex: 155361 entries, 0 to 155360\n",
      "Data columns (total 6 columns):\n",
      " #   Column         Non-Null Count   Dtype \n",
      "---  ------         --------------   ----- \n",
      " 0   structure      155361 non-null  object\n",
      " 1   decomposes_to  118418 non-null  object\n",
      " 2   xas            60920 non-null   object\n",
      " 3   bandstructure  71727 non-null   object\n",
      " 4   dos            89547 non-null   object\n",
      " 5   ordering       154379 non-null  object\n",
      "dtypes: object(6)\n",
      "memory usage: 7.1+ MB\n"
     ]
    }
   ],
   "source": [
    "categorical_df.drop(['bulk_modulus', 'shear_modulus'], axis=1, inplace=True)\n",
    "categorical_df.info()"
   ]
  },
  {
   "cell_type": "code",
   "execution_count": 33,
   "metadata": {},
   "outputs": [],
   "source": [
    "# categorical_df['xas'][0]\n",
    "\n",
    "\n"
   ]
  },
  {
   "cell_type": "code",
   "execution_count": 34,
   "metadata": {},
   "outputs": [],
   "source": [
    "# numerical_df.to_csv('../dataset/cleaned_numerical_data.csv', index=False)\n",
    "# categorical_df.to_csv('../dataset/cleaned_categorical_data.csv', index=False)\n"
   ]
  }
 ],
 "metadata": {
  "kernelspec": {
   "display_name": "base",
   "language": "python",
   "name": "python3"
  },
  "language_info": {
   "codemirror_mode": {
    "name": "ipython",
    "version": 3
   },
   "file_extension": ".py",
   "mimetype": "text/x-python",
   "name": "python",
   "nbconvert_exporter": "python",
   "pygments_lexer": "ipython3",
   "version": "3.12.2"
  }
 },
 "nbformat": 4,
 "nbformat_minor": 2
}
