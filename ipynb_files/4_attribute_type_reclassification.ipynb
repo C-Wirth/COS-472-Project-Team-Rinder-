{
 "cells": [
  {
   "cell_type": "code",
   "execution_count": 1,
   "metadata": {},
   "outputs": [],
   "source": [
    "import pandas as pd\n",
    "import matplotlib.pyplot as plt\n",
    "import numpy as np\n",
    "import seaborn as sns"
   ]
  },
  {
   "cell_type": "code",
   "execution_count": 2,
   "metadata": {},
   "outputs": [
    {
     "name": "stderr",
     "output_type": "stream",
     "text": [
      "/var/folders/xk/fhgbj8qj60n54b05mpfnck0w0000gn/T/ipykernel_8489/36242928.py:1: DtypeWarning: Columns (23,28,29,54) have mixed types. Specify dtype option on import or set low_memory=False.\n",
      "  df = pd.read_csv('../no_db_labels.csv')\n"
     ]
    }
   ],
   "source": [
    "df = pd.read_csv('../no_db_labels.csv')"
   ]
  },
  {
   "cell_type": "code",
   "execution_count": 4,
   "metadata": {},
   "outputs": [
    {
     "name": "stdout",
     "output_type": "stream",
     "text": [
      "<class 'pandas.core.frame.DataFrame'>\n",
      "RangeIndex: 155361 entries, 0 to 155360\n",
      "Data columns (total 58 columns):\n",
      " #   Column                                        Non-Null Count   Dtype  \n",
      "---  ------                                        --------------   -----  \n",
      " 0   formula_pretty                                155358 non-null  object \n",
      " 1   nsites                                        155361 non-null  int64  \n",
      " 2   elements                                      155361 non-null  object \n",
      " 3   nelements                                     155361 non-null  int64  \n",
      " 4   composition                                   155361 non-null  object \n",
      " 5   composition_reduced                           155361 non-null  object \n",
      " 6   formula_anonymous                             155361 non-null  object \n",
      " 7   chemsys                                       155361 non-null  object \n",
      " 8   volume                                        155361 non-null  float64\n",
      " 9   density                                       155361 non-null  float64\n",
      " 10  density_atomic                                155361 non-null  float64\n",
      " 11  symmetry                                      155361 non-null  object \n",
      " 12  property_name                                 155361 non-null  object \n",
      " 13  material_id                                   155361 non-null  object \n",
      " 14  deprecated                                    155361 non-null  bool   \n",
      " 15  structure                                     155361 non-null  object \n",
      " 16  energy_per_atom                               152149 non-null  float64\n",
      " 17  formation_energy_per_atom                     152149 non-null  float64\n",
      " 18  energy_above_hull                             152149 non-null  float64\n",
      " 19  is_stable                                     155361 non-null  bool   \n",
      " 20  equilibrium_reaction_energy_per_atom          33731 non-null   float64\n",
      " 21  decomposes_to                                 118418 non-null  object \n",
      " 22  xas                                           60920 non-null   object \n",
      " 23  grain_boundaries                              58 non-null      object \n",
      " 24  band_gap                                      155353 non-null  float64\n",
      " 25  cbm                                           91107 non-null   float64\n",
      " 26  vbm                                           91107 non-null   float64\n",
      " 27  efermi                                        155313 non-null  float64\n",
      " 28  is_gap_direct                                 155353 non-null  object \n",
      " 29  is_metal                                      155353 non-null  object \n",
      " 30  bandstructure                                 71727 non-null   object \n",
      " 31  dos                                           89547 non-null   object \n",
      " 32  is_magnetic                                   154379 non-null  object \n",
      " 33  ordering                                      154379 non-null  object \n",
      " 34  total_magnetization                           154379 non-null  float64\n",
      " 35  total_magnetization_normalized_vol            154379 non-null  float64\n",
      " 36  total_magnetization_normalized_formula_units  154379 non-null  float64\n",
      " 37  num_magnetic_sites                            154379 non-null  float64\n",
      " 38  num_unique_magnetic_sites                     154379 non-null  float64\n",
      " 39  types_of_magnetic_species                     154379 non-null  object \n",
      " 40  bulk_modulus                                  12259 non-null   object \n",
      " 41  shear_modulus                                 12259 non-null   object \n",
      " 42  universal_anisotropy                          12259 non-null   float64\n",
      " 43  homogeneous_poisson                           12259 non-null   float64\n",
      " 44  e_total                                       7287 non-null    float64\n",
      " 45  e_ionic                                       7287 non-null    float64\n",
      " 46  e_electronic                                  7287 non-null    float64\n",
      " 47  n                                             7287 non-null    float64\n",
      " 48  e_ij_max                                      3299 non-null    float64\n",
      " 49  weighted_surface_energy_EV_PER_ANG2           133 non-null     float64\n",
      " 50  weighted_surface_energy                       133 non-null     float64\n",
      " 51  weighted_work_function                        133 non-null     float64\n",
      " 52  surface_anisotropy                            133 non-null     float64\n",
      " 53  shape_factor                                  133 non-null     float64\n",
      " 54  has_reconstructed                             138 non-null     object \n",
      " 55  possible_species                              155353 non-null  object \n",
      " 56  has_props                                     155361 non-null  object \n",
      " 57  theoretical                                   155361 non-null  bool   \n",
      "dtypes: bool(3), float64(28), int64(2), object(25)\n",
      "memory usage: 65.6+ MB\n"
     ]
    }
   ],
   "source": [
    "df.info()"
   ]
  },
  {
   "cell_type": "code",
   "execution_count": 14,
   "metadata": {},
   "outputs": [
    {
     "name": "stdout",
     "output_type": "stream",
     "text": [
      "[<class 'str'>]\n"
     ]
    }
   ],
   "source": [
    "df['formula_pretty'] = df['formula_pretty'].astype(str)\n",
    "print(df['formula_pretty'].apply(type).unique())  # Check the type of entries"
   ]
  },
  {
   "cell_type": "code",
   "execution_count": 17,
   "metadata": {},
   "outputs": [],
   "source": [
    "df.dropna(subset=['formula_pretty'], inplace=True)\n"
   ]
  },
  {
   "cell_type": "code",
   "execution_count": 21,
   "metadata": {},
   "outputs": [
    {
     "name": "stdout",
     "output_type": "stream",
     "text": [
      "formula_pretty\n",
      "<class 'str'>    155361\n",
      "Name: count, dtype: int64\n"
     ]
    }
   ],
   "source": [
    "print(df['formula_pretty'].apply(type).value_counts())  # Count types of each entry\n"
   ]
  },
  {
   "cell_type": "code",
   "execution_count": null,
   "metadata": {},
   "outputs": [],
   "source": []
  }
 ],
 "metadata": {
  "kernelspec": {
   "display_name": "base",
   "language": "python",
   "name": "python3"
  },
  "language_info": {
   "codemirror_mode": {
    "name": "ipython",
    "version": 3
   },
   "file_extension": ".py",
   "mimetype": "text/x-python",
   "name": "python",
   "nbconvert_exporter": "python",
   "pygments_lexer": "ipython3",
   "version": "3.12.4"
  }
 },
 "nbformat": 4,
 "nbformat_minor": 2
}
